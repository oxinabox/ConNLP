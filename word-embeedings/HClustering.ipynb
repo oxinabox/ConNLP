{
 "metadata": {
  "language": "Julia",
  "name": "",
  "signature": "sha256:95738f4e04cc06c223515877dad6dca09f125cd50a72c55da1bfd6f83adf1509"
 },
 "nbformat": 3,
 "nbformat_minor": 0,
 "worksheets": [
  {
   "cells": [
    {
     "cell_type": "code",
     "collapsed": false,
     "input": [
      "using DataFrames\n",
      "using HDF5, JLD\n",
      "using Lazy\n",
      "using DataStructures\n"
     ],
     "language": "python",
     "metadata": {},
     "outputs": [],
     "prompt_number": 6
    },
    {
     "cell_type": "code",
     "collapsed": false,
     "input": [
      "const HUGE = 2^32-1\n",
      "\n",
      "\n",
      "function pz(x)\n",
      "    println(typeof(x), ' ', size(x))\n",
      "end\n",
      "\n",
      "function cols(x)\n",
      "    function _it()\n",
      "        for ii in 1:size(x,2)\n",
      "            produce(x[:,ii])\n",
      "        end\n",
      "    end\n",
      "    Task(_it)\n",
      "end\n",
      "\n",
      "function rows(x)\n",
      "    function _it()\n",
      "        for ii in 1:size(x,1)\n",
      "            produce(x[ii,:])\n",
      "        end\n",
      "    end\n",
      "    Task(_it)\n",
      "end"
     ],
     "language": "python",
     "metadata": {},
     "outputs": [
      {
       "metadata": {},
       "output_type": "pyout",
       "prompt_number": 5,
       "text": [
        "rows (generic function with 1 method)"
       ]
      }
     ],
     "prompt_number": 5
    },
    {
     "cell_type": "code",
     "collapsed": false,
     "input": [
      "@load \"term_doc_people.jld\"\n",
      "@load \"term_doc_desc.jld\"\n"
     ],
     "language": "python",
     "metadata": {},
     "outputs": [
      {
       "metadata": {},
       "output_type": "pyout",
       "prompt_number": 6,
       "text": [
        "1-element Array{Symbol,1}:\n",
        " :term_doc_desc"
       ]
      }
     ],
     "prompt_number": 6
    },
    {
     "cell_type": "code",
     "collapsed": false,
     "input": [
      "@load \"cons.jld\"\n",
      "@load \"terms_people.jld\"\n",
      "#load \"term_doc_desc.jld\""
     ],
     "language": "python",
     "metadata": {},
     "outputs": [
      {
       "output_type": "stream",
       "stream": "stderr",
       "text": [
        "WARNING: type TermResolver not present in workspace; reconstructing\n"
       ]
      },
      {
       "metadata": {},
       "output_type": "pyout",
       "prompt_number": 7,
       "text": [
        "1-element Array{Symbol,1}:\n",
        " :terms_people"
       ]
      }
     ],
     "prompt_number": 7
    },
    {
     "cell_type": "code",
     "collapsed": false,
     "input": [
      "function distance(o1::BitArray{1},o2::BitArray{1})\n",
      "    1.0 - countnz(o1 & o2)/countnz(o1 | o2) #Jaccard Distance http://en.wikipedia.org/wiki/Jaccard_index\n",
      "end\n",
      "\n",
      "function distance(c1::BitArray{2},c2::BitArray{2})\n",
      "    closest_dist = Inf\n",
      "    for o1 in cols(c1)\n",
      "        for o2 in cols(c2)\n",
      "            closest_dist = min(distance(o1,o2),closest_dist)\n",
      "        end\n",
      "    end\n",
      "    closest_dist\n",
      "end\n",
      "\n",
      "function distance(o1::BitArray{1},c2::BitArray{2})\n",
      "    closest_dist = Inf\n",
      "    for o2 in cols(c2)\n",
      "        closest_dist = min(distance(o1,o2),closest_dist)\n",
      "    end\n",
      "    closest_dist\n",
      "end\n",
      "\n",
      "function distance(c2::BitArray{2},o1::BitArray{1})\n",
      "    distance(o1,c2)\n",
      "end\n",
      "\n",
      "function single_link_clustering(term_doc, maxDistanceToMerge, maxMerges=Huge)\n",
      "    occurs::BitArray{2} = (term_doc.>0)'\n",
      "    @inbounds cluster_docs = Any[[occurs[doc_id,:][:];] \n",
      "                                    for doc_id in 1:size(occurs,1)]\n",
      "    cluster_docs::Array{Any,1}\n",
      "    @inbounds cluster_ids = [[doc_id] for doc_id in 1:size(occurs,1)]\n",
      "    cluster_ids::Array{Any,1}\n",
      "    \n",
      "    \n",
      "    for ii in 1:maxMerges\n",
      "        closest_dist = Inf\n",
      "        closest = (-1,-1)\n",
      "        \n",
      "        \n",
      "        for cii in 1:length(cluster_docs)\n",
      "            cluster_docs[cii]::BitArray\n",
      "                \n",
      "            for cjj in cii+1:length(cluster_docs)\n",
      "                cluster_docs[cjj]::BitArray\n",
      "                \n",
      "                dist = distance(cluster_docs[cii], cluster_docs[cjj])\n",
      "                #println(\"$cii, $cjj, $dist\")\n",
      "                if dist<closest_dist\n",
      "                    closest_dist=dist\n",
      "                    closest = (cii,cjj)\n",
      "                end \n",
      "            end\n",
      "        end\n",
      "        \n",
      "\n",
      "        if closest_dist <= maxDistanceToMerge\n",
      "            @inbounds cluster_docs[closest[1]] = hcat(cluster_docs[closest[1]], cluster_docs[closest[2]])\n",
      "            @inbounds deleteat!(cluster_docs, closest[2])\n",
      "            \n",
      "            println(\"$ii - $closest_dist: $(cluster_ids[closest[2]]) => $(cluster_ids[closest[1]]) \")\n",
      "            @inbounds append!(cluster_ids[closest[1]],  cluster_ids[closest[2]])\n",
      "            @inbounds deleteat!(cluster_ids, closest[2])\n",
      "        else\n",
      "            break\n",
      "        end\n",
      "        \n",
      "    end\n",
      "    cluster_docs, cluster_ids\n",
      "end"
     ],
     "language": "python",
     "metadata": {},
     "outputs": [
      {
       "metadata": {},
       "output_type": "pyout",
       "prompt_number": 106,
       "text": [
        "single_link_clustering (generic function with 2 methods)"
       ]
      }
     ],
     "prompt_number": 106
    },
    {
     "cell_type": "code",
     "collapsed": false,
     "input": [
      "@time cluster_docs, cluster_ids=single_link_clustering(term_doc_people, 0.4, 1000);\n",
      "@time cluster_docs, cluster_ids=single_link_clustering(term_doc_people, 0.4, 1000);"
     ],
     "language": "python",
     "metadata": {},
     "outputs": [
      {
       "output_type": "stream",
       "stream": "stdout",
       "text": [
        "1 - 0.0: [137] => [5] \n"
       ]
      },
      {
       "output_type": "stream",
       "stream": "stdout",
       "text": [
        "2 - 0.0: [31] => [9] "
       ]
      },
      {
       "output_type": "stream",
       "stream": "stdout",
       "text": [
        "\n",
        "3 - 0.0: [37] => [9,31] "
       ]
      },
      {
       "output_type": "stream",
       "stream": "stdout",
       "text": [
        "\n",
        "4 - 0.0: [69] => [9,31,37] "
       ]
      },
      {
       "output_type": "stream",
       "stream": "stdout",
       "text": [
        "\n",
        "5 - 0.0: [98] => [9,31,37,69] "
       ]
      },
      {
       "output_type": "stream",
       "stream": "stdout",
       "text": [
        "\n",
        "6 - 0.0: [101] => [9,31,37,69,98] "
       ]
      },
      {
       "output_type": "stream",
       "stream": "stdout",
       "text": [
        "\n",
        "7 - 0.0: [125] => [10] "
       ]
      },
      {
       "output_type": "stream",
       "stream": "stdout",
       "text": [
        "\n",
        "8 - 0.0: [356] => [11] "
       ]
      },
      {
       "output_type": "stream",
       "stream": "stdout",
       "text": [
        "\n",
        "9 - 0.0: [416] => [11,356] "
       ]
      },
      {
       "output_type": "stream",
       "stream": "stdout",
       "text": [
        "\n",
        "10 - 0.0: [486] => [11,356,416] "
       ]
      },
      {
       "output_type": "stream",
       "stream": "stdout",
       "text": [
        "\n",
        "11 - 0.0: [55] => [16] "
       ]
      },
      {
       "output_type": "stream",
       "stream": "stdout",
       "text": [
        "\n",
        "12 - 0.0: [56] => [16,55] "
       ]
      },
      {
       "output_type": "stream",
       "stream": "stdout",
       "text": [
        "\n",
        "13 - 0.0: [404] => [19] "
       ]
      },
      {
       "output_type": "stream",
       "stream": "stdout",
       "text": [
        "\n",
        "14 - 0.0: [176] => [33] "
       ]
      },
      {
       "output_type": "stream",
       "stream": "stdout",
       "text": [
        "\n",
        "15 - 0.0: [370] => [33,176] "
       ]
      },
      {
       "output_type": "stream",
       "stream": "stdout",
       "text": [
        "\n",
        "16 - 0.0: [39] => [35] "
       ]
      },
      {
       "output_type": "stream",
       "stream": "stdout",
       "text": [
        "\n",
        "17 - 0.0: [361] => [35,39] "
       ]
      },
      {
       "output_type": "stream",
       "stream": "stdout",
       "text": [
        "\n",
        "18 - 0.0: [126] => [41] "
       ]
      },
      {
       "output_type": "stream",
       "stream": "stdout",
       "text": [
        "\n",
        "19 - 0.0: [420] => [47] "
       ]
      },
      {
       "output_type": "stream",
       "stream": "stdout",
       "text": [
        "\n",
        "20 - 0.0: [434] => [47,420] "
       ]
      },
      {
       "output_type": "stream",
       "stream": "stdout",
       "text": [
        "\n",
        "21 - 0.0: [449] => [47,420,434] "
       ]
      },
      {
       "output_type": "stream",
       "stream": "stdout",
       "text": [
        "\n",
        "22 - 0.0: [499] => [47,420,434,449] "
       ]
      },
      {
       "output_type": "stream",
       "stream": "stdout",
       "text": [
        "\n",
        "23 - 0.0: [500] => [60] "
       ]
      },
      {
       "output_type": "stream",
       "stream": "stdout",
       "text": [
        "\n",
        "24 - 0.0: [513] => [60,500] "
       ]
      },
      {
       "output_type": "stream",
       "stream": "stdout",
       "text": [
        "\n",
        "25 - 0.0: [75] => [61] "
       ]
      },
      {
       "output_type": "stream",
       "stream": "stdout",
       "text": [
        "\n",
        "26 - 0.0: [100] => [64] "
       ]
      },
      {
       "output_type": "stream",
       "stream": "stdout",
       "text": [
        "\n",
        "27 - 0.0: [335] => [67] "
       ]
      },
      {
       "output_type": "stream",
       "stream": "stdout",
       "text": [
        "\n",
        "28 - 0.0: [409] => [67,335] "
       ]
      },
      {
       "output_type": "stream",
       "stream": "stdout",
       "text": [
        "\n",
        "29 - 0.0: [237] => [74] "
       ]
      },
      {
       "output_type": "stream",
       "stream": "stdout",
       "text": [
        "\n",
        "30 - 0.0: [343] => [74,237] "
       ]
      },
      {
       "output_type": "stream",
       "stream": "stdout",
       "text": [
        "\n",
        "31 - 0.0: [379] => [74,237,343] "
       ]
      },
      {
       "output_type": "stream",
       "stream": "stdout",
       "text": [
        "\n",
        "32 - 0.0: [380] => [74,237,343,379] "
       ]
      },
      {
       "output_type": "stream",
       "stream": "stdout",
       "text": [
        "\n",
        "33 - 0.0: [381] => [74,237,343,379,380] "
       ]
      },
      {
       "output_type": "stream",
       "stream": "stdout",
       "text": [
        "\n",
        "34 - 0.0: [424] => [74,237,343,379,380,381] "
       ]
      },
      {
       "output_type": "stream",
       "stream": "stdout",
       "text": [
        "\n",
        "35 - 0.0: [554] => [74,237,343,379,380,381,424] "
       ]
      },
      {
       "output_type": "stream",
       "stream": "stdout",
       "text": [
        "\n",
        "36 - 0.0: [586] => [74,237,343,379,380,381,424,554] "
       ]
      },
      {
       "output_type": "stream",
       "stream": "stdout",
       "text": [
        "\n",
        "37 - 0.0: [587] => [74,237,343,379,380,381,424,554,586] "
       ]
      },
      {
       "output_type": "stream",
       "stream": "stdout",
       "text": [
        "\n",
        "38 - 0.0: [588] => [74,237,343,379,380,381,424,554,586,587] "
       ]
      },
      {
       "output_type": "stream",
       "stream": "stdout",
       "text": [
        "\n",
        "39 - 0.0: [589] => [74,237,343,379,380,381,424,554,586,587,588] "
       ]
      },
      {
       "output_type": "stream",
       "stream": "stdout",
       "text": [
        "\n",
        "40 - 0.0: [590] => [74,237,343,379,380,381,424,554,586,587,588,589] "
       ]
      },
      {
       "output_type": "stream",
       "stream": "stdout",
       "text": [
        "\n",
        "41 - 0.0: [133] => [110] "
       ]
      },
      {
       "output_type": "stream",
       "stream": "stdout",
       "text": [
        "\n",
        "42 - 0.0: [438] => [116] "
       ]
      },
      {
       "output_type": "stream",
       "stream": "stdout",
       "text": [
        "\n",
        "43 - 0.0: [564] => [131] "
       ]
      },
      {
       "output_type": "stream",
       "stream": "stdout",
       "text": [
        "\n",
        "44 - 0.0: [217] => [142] "
       ]
      },
      {
       "output_type": "stream",
       "stream": "stdout",
       "text": [
        "\n",
        "45 - 0.0: [157] => [145] "
       ]
      },
      {
       "output_type": "stream",
       "stream": "stdout",
       "text": [
        "\n",
        "46 - 0.0: [204] => [145,157] "
       ]
      },
      {
       "output_type": "stream",
       "stream": "stdout",
       "text": [
        "\n",
        "47 - 0.0: [213] => [145,157,204] "
       ]
      },
      {
       "output_type": "stream",
       "stream": "stdout",
       "text": [
        "\n",
        "48 - 0.0: [178] => [146] "
       ]
      },
      {
       "output_type": "stream",
       "stream": "stdout",
       "text": [
        "\n",
        "49 - 0.0: [186] => [148] "
       ]
      },
      {
       "output_type": "stream",
       "stream": "stdout",
       "text": [
        "\n",
        "50 - 0.0: [224] => [148,186] "
       ]
      },
      {
       "output_type": "stream",
       "stream": "stdout",
       "text": [
        "\n",
        "51 - 0.0: [167] => [150] "
       ]
      },
      {
       "output_type": "stream",
       "stream": "stdout",
       "text": [
        "\n",
        "52 - 0.0: [171] => [150,167] "
       ]
      },
      {
       "output_type": "stream",
       "stream": "stdout",
       "text": [
        "\n",
        "53 - 0.0: [180] => [158] "
       ]
      },
      {
       "output_type": "stream",
       "stream": "stdout",
       "text": [
        "\n",
        "54 - 0.0: [220] => [158,180] "
       ]
      },
      {
       "output_type": "stream",
       "stream": "stdout",
       "text": [
        "\n",
        "55 - 0.0: [194] => [161] "
       ]
      },
      {
       "output_type": "stream",
       "stream": "stdout",
       "text": [
        "\n",
        "56 - 0.0: [168] => [163] "
       ]
      },
      {
       "output_type": "stream",
       "stream": "stdout",
       "text": [
        "\n",
        "57 - 0.0: [185] => [163,168] "
       ]
      },
      {
       "output_type": "stream",
       "stream": "stdout",
       "text": [
        "\n",
        "58 - 0.0: [340] => [181] "
       ]
      },
      {
       "output_type": "stream",
       "stream": "stdout",
       "text": [
        "\n",
        "59 - 0.0: [222] => [190] "
       ]
      },
      {
       "output_type": "stream",
       "stream": "stdout",
       "text": [
        "\n",
        "60 - 0.0: [214] => [201] "
       ]
      },
      {
       "output_type": "stream",
       "stream": "stdout",
       "text": [
        "\n",
        "61 - 0.0: [218] => [210] "
       ]
      },
      {
       "output_type": "stream",
       "stream": "stdout",
       "text": [
        "\n",
        "62 - 0.0: [347] => [229] "
       ]
      },
      {
       "output_type": "stream",
       "stream": "stdout",
       "text": [
        "\n",
        "63 - 0.0: [583] => [232] "
       ]
      },
      {
       "output_type": "stream",
       "stream": "stdout",
       "text": [
        "\n",
        "64 - 0.0: [568] => [238] "
       ]
      },
      {
       "output_type": "stream",
       "stream": "stdout",
       "text": [
        "\n",
        "65 - 0.0: [280] => [240] "
       ]
      },
      {
       "output_type": "stream",
       "stream": "stdout",
       "text": [
        "\n",
        "66 - 0.0: [354] => [241] "
       ]
      },
      {
       "output_type": "stream",
       "stream": "stdout",
       "text": [
        "\n",
        "67 - 0.0: [470] => [243] "
       ]
      },
      {
       "output_type": "stream",
       "stream": "stdout",
       "text": [
        "\n",
        "68 - 0.0: [318] => [246] "
       ]
      },
      {
       "output_type": "stream",
       "stream": "stdout",
       "text": [
        "\n",
        "69 - 0.0: [333] => [246,318] "
       ]
      },
      {
       "output_type": "stream",
       "stream": "stdout",
       "text": [
        "\n",
        "70 - 0.0: [408] => [246,318,333] "
       ]
      },
      {
       "output_type": "stream",
       "stream": "stdout",
       "text": [
        "\n",
        "71 - 0.0: [284] => [283] "
       ]
      },
      {
       "output_type": "stream",
       "stream": "stdout",
       "text": [
        "\n",
        "72 - 0.0: [292] => [289] "
       ]
      },
      {
       "output_type": "stream",
       "stream": "stdout",
       "text": [
        "\n",
        "73 - 0.0: [294] => [289,292] "
       ]
      },
      {
       "output_type": "stream",
       "stream": "stdout",
       "text": [
        "\n",
        "74 - 0.0: [295] => [289,292,294] "
       ]
      },
      {
       "output_type": "stream",
       "stream": "stdout",
       "text": [
        "\n",
        "75 - 0.0: [296] => [289,292,294,295] "
       ]
      },
      {
       "output_type": "stream",
       "stream": "stdout",
       "text": [
        "\n",
        "76 - 0.0: [306] => [289,292,294,295,296] "
       ]
      },
      {
       "output_type": "stream",
       "stream": "stdout",
       "text": [
        "\n",
        "77 - 0.0: [307] => [289,292,294,295,296,306] "
       ]
      },
      {
       "output_type": "stream",
       "stream": "stdout",
       "text": [
        "\n",
        "78 - 0.0: [314] => [289,292,294,295,296,306,307] "
       ]
      },
      {
       "output_type": "stream",
       "stream": "stdout",
       "text": [
        "\n",
        "79 - 0.0: [317] => [289,292,294,295,296,306,307,314] "
       ]
      },
      {
       "output_type": "stream",
       "stream": "stdout",
       "text": [
        "\n",
        "80 - 0.0: [480] => [289,292,294,295,296,306,307,314,317] "
       ]
      },
      {
       "output_type": "stream",
       "stream": "stdout",
       "text": [
        "\n",
        "81 - 0.0: [488] => [289,292,294,295,296,306,307,314,317,480] "
       ]
      },
      {
       "output_type": "stream",
       "stream": "stdout",
       "text": [
        "\n",
        "82 - 0.0: [389] => [291] "
       ]
      },
      {
       "output_type": "stream",
       "stream": "stdout",
       "text": [
        "\n",
        "83 - 0.0: [337] => [297] "
       ]
      },
      {
       "output_type": "stream",
       "stream": "stdout",
       "text": [
        "\n",
        "84 - 0.0: [390] => [330] "
       ]
      },
      {
       "output_type": "stream",
       "stream": "stdout",
       "text": [
        "\n",
        "85 - 0.0: [492] => [330,390] "
       ]
      },
      {
       "output_type": "stream",
       "stream": "stdout",
       "text": [
        "\n",
        "86 - 0.0: [350] => [334] "
       ]
      },
      {
       "output_type": "stream",
       "stream": "stdout",
       "text": [
        "\n",
        "87 - 0.0: [373] => [358] "
       ]
      },
      {
       "output_type": "stream",
       "stream": "stdout",
       "text": [
        "\n",
        "88 - 0.0: [468] => [358,373] "
       ]
      },
      {
       "output_type": "stream",
       "stream": "stdout",
       "text": [
        "\n",
        "89 - 0.0: [482] => [358,373,468] "
       ]
      },
      {
       "output_type": "stream",
       "stream": "stdout",
       "text": [
        "\n",
        "90 - 0.0: [483] => [358,373,468,482] "
       ]
      },
      {
       "output_type": "stream",
       "stream": "stdout",
       "text": [
        "\n",
        "91 - 0.0: [375] => [362] "
       ]
      },
      {
       "output_type": "stream",
       "stream": "stdout",
       "text": [
        "\n",
        "92 - 0.0: [387] => [364] "
       ]
      },
      {
       "output_type": "stream",
       "stream": "stdout",
       "text": [
        "\n",
        "93 - 0.0: [494] => [364,387] "
       ]
      },
      {
       "output_type": "stream",
       "stream": "stdout",
       "text": [
        "\n",
        "94 - 0.0: [473] => [365] "
       ]
      },
      {
       "output_type": "stream",
       "stream": "stdout",
       "text": [
        "\n",
        "95 - 0.0: [484] => [365,473] "
       ]
      },
      {
       "output_type": "stream",
       "stream": "stdout",
       "text": [
        "\n",
        "96 - 0.0: [485] => [365,473,484] "
       ]
      },
      {
       "output_type": "stream",
       "stream": "stdout",
       "text": [
        "\n",
        "97 - 0.0: [489] => [365,473,484,485] "
       ]
      },
      {
       "output_type": "stream",
       "stream": "stdout",
       "text": [
        "\n",
        "98 - 0.0: [491] => [365,473,484,485,489] "
       ]
      },
      {
       "output_type": "stream",
       "stream": "stdout",
       "text": [
        "\n",
        "99 - 0.0: [423] => [366] "
       ]
      },
      {
       "output_type": "stream",
       "stream": "stdout",
       "text": [
        "\n",
        "100 - 0.0: [471] => [366,423] "
       ]
      },
      {
       "output_type": "stream",
       "stream": "stdout",
       "text": [
        "\n",
        "101 - 0.0: [616] => [366,423,471] "
       ]
      },
      {
       "output_type": "stream",
       "stream": "stdout",
       "text": [
        "\n",
        "102 - 0.0: [398] => [368] "
       ]
      },
      {
       "output_type": "stream",
       "stream": "stdout",
       "text": [
        "\n",
        "103 - 0.0: [400] => [368,398] "
       ]
      },
      {
       "output_type": "stream",
       "stream": "stdout",
       "text": [
        "\n",
        "104 - 0.0: [405] => [368,398,400] "
       ]
      },
      {
       "output_type": "stream",
       "stream": "stdout",
       "text": [
        "\n",
        "105 - 0.0: [406] => [368,398,400,405] "
       ]
      },
      {
       "output_type": "stream",
       "stream": "stdout",
       "text": [
        "\n",
        "106 - 0.0: [407] => [368,398,400,405,406] "
       ]
      },
      {
       "output_type": "stream",
       "stream": "stdout",
       "text": [
        "\n",
        "107 - 0.0: [377] => [371] "
       ]
      },
      {
       "output_type": "stream",
       "stream": "stdout",
       "text": [
        "\n",
        "108 - 0.0: [474] => [371,377] "
       ]
      },
      {
       "output_type": "stream",
       "stream": "stdout",
       "text": [
        "\n",
        "109 - 0.0: [472] => [376] "
       ]
      },
      {
       "output_type": "stream",
       "stream": "stdout",
       "text": [
        "\n",
        "110 - 0.0: [384] => [383] "
       ]
      },
      {
       "output_type": "stream",
       "stream": "stdout",
       "text": [
        "\n",
        "111 - 0.0: [385] => [383,384] "
       ]
      },
      {
       "output_type": "stream",
       "stream": "stdout",
       "text": [
        "\n",
        "112 - 0.0: [386] => [383,384,385] "
       ]
      },
      {
       "output_type": "stream",
       "stream": "stdout",
       "text": [
        "\n",
        "113 - 0.0: [413] => [388] "
       ]
      },
      {
       "output_type": "stream",
       "stream": "stdout",
       "text": [
        "\n",
        "114 - 0.0: [393] => [392] "
       ]
      },
      {
       "output_type": "stream",
       "stream": "stdout",
       "text": [
        "\n",
        "115 - 0.0: [395] => [394] "
       ]
      },
      {
       "output_type": "stream",
       "stream": "stdout",
       "text": [
        "\n",
        "116 - 0.0: [467] => [401] "
       ]
      },
      {
       "output_type": "stream",
       "stream": "stdout",
       "text": [
        "\n",
        "117 - 0.0: [479] => [415] "
       ]
      },
      {
       "output_type": "stream",
       "stream": "stdout",
       "text": [
        "\n",
        "118 - 0.0: [428] => [427] "
       ]
      },
      {
       "output_type": "stream",
       "stream": "stdout",
       "text": [
        "\n",
        "119 - 0.0: [510] => [427,428] "
       ]
      },
      {
       "output_type": "stream",
       "stream": "stdout",
       "text": [
        "\n",
        "120 - 0.0: [505] => [433] "
       ]
      },
      {
       "output_type": "stream",
       "stream": "stdout",
       "text": [
        "\n",
        "121 - 0.0: [446] => [445] "
       ]
      },
      {
       "output_type": "stream",
       "stream": "stdout",
       "text": [
        "\n",
        "122 - 0.0: [447] => [445,446] "
       ]
      },
      {
       "output_type": "stream",
       "stream": "stdout",
       "text": [
        "\n",
        "123 - 0.0: [511] => [458] "
       ]
      },
      {
       "output_type": "stream",
       "stream": "stdout",
       "text": [
        "\n",
        "124 - 0.0: [512] => [458,511] "
       ]
      },
      {
       "output_type": "stream",
       "stream": "stdout",
       "text": [
        "\n",
        "125 - 0.0: [487] => [469] "
       ]
      },
      {
       "output_type": "stream",
       "stream": "stdout",
       "text": [
        "\n",
        "126 - 0.0: [495] => [475] "
       ]
      },
      {
       "output_type": "stream",
       "stream": "stdout",
       "text": [
        "\n",
        "127 - 0.0: [602] => [496] "
       ]
      },
      {
       "output_type": "stream",
       "stream": "stdout",
       "text": [
        "\n",
        "128 - 0.0: [608] => [497] "
       ]
      },
      {
       "output_type": "stream",
       "stream": "stdout",
       "text": [
        "\n",
        "129 - 0.0: [509] => [507] "
       ]
      },
      {
       "output_type": "stream",
       "stream": "stdout",
       "text": [
        "\n",
        "130 - 0.0: [526] => [517] "
       ]
      },
      {
       "output_type": "stream",
       "stream": "stdout",
       "text": [
        "\n",
        "131 - 0.0: [603] => [552] "
       ]
      },
      {
       "output_type": "stream",
       "stream": "stdout",
       "text": [
        "\n",
        "132 - 0.0: [593] => [592] "
       ]
      },
      {
       "output_type": "stream",
       "stream": "stdout",
       "text": [
        "\n",
        "133 - 0.0: [614] => [612] "
       ]
      },
      {
       "output_type": "stream",
       "stream": "stdout",
       "text": [
        "\n",
        "134 - 0.25: [272] => [268] "
       ]
      },
      {
       "output_type": "stream",
       "stream": "stdout",
       "text": [
        "\n",
        "135 - 0.25: [508] => [422] "
       ]
      },
      {
       "output_type": "stream",
       "stream": "stdout",
       "text": [
        "\n",
        "136 - 0.25: [525] => [422,508] "
       ]
      },
      {
       "output_type": "stream",
       "stream": "stdout",
       "text": [
        "\n",
        "137 - 0.25: [523] => [522] "
       ]
      },
      {
       "output_type": "stream",
       "stream": "stdout",
       "text": [
        "\n",
        "138 - 0.25: [615] => [540] "
       ]
      },
      {
       "output_type": "stream",
       "stream": "stdout",
       "text": [
        "\n",
        "139 - 0.25: [549] => [540,615] "
       ]
      },
      {
       "output_type": "stream",
       "stream": "stdout",
       "text": [
        "\n",
        "140 - 0.25: [612,614] => [540,615,549] "
       ]
      },
      {
       "output_type": "stream",
       "stream": "stdout",
       "text": [
        "\n",
        "141 - 0.33333333333333337: [48] => [22] "
       ]
      },
      {
       "output_type": "stream",
       "stream": "stdout",
       "text": [
        "\n",
        "142 - 0.33333333333333337: [127] => [27] "
       ]
      },
      {
       "output_type": "stream",
       "stream": "stdout",
       "text": [
        "\n",
        "143 - 0.33333333333333337: [138] => [64,100] "
       ]
      },
      {
       "output_type": "stream",
       "stream": "stdout",
       "text": [
        "\n",
        "144 - 0.33333333333333337: [123] => [65] "
       ]
      },
      {
       "output_type": "stream",
       "stream": "stdout",
       "text": [
        "\n",
        "145 - 0.33333333333333337: [135] => [65,123] "
       ]
      },
      {
       "output_type": "stream",
       "stream": "stdout",
       "text": [
        "\n",
        "146 - 0.33333333333333337: [109] => [104] "
       ]
      },
      {
       "output_type": "stream",
       "stream": "stdout",
       "text": [
        "\n",
        "147 - 0.33333333333333337: [528] => [115] "
       ]
      },
      {
       "output_type": "stream",
       "stream": "stdout",
       "text": [
        "\n",
        "148 - 0.33333333333333337: [425] => [115,528] "
       ]
      },
      {
       "output_type": "stream",
       "stream": "stdout",
       "text": [
        "\n",
        "149 - 0.33333333333333337: [184] => [154] "
       ]
      },
      {
       "output_type": "stream",
       "stream": "stdout",
       "text": [
        "\n",
        "150 - 0.33333333333333337: [283,284] => [230] "
       ]
      },
      {
       "output_type": "stream",
       "stream": "stdout",
       "text": [
        "\n",
        "151 - 0.33333333333333337: [502] => [232,583] "
       ]
      },
      {
       "output_type": "stream",
       "stream": "stdout",
       "text": [
        "\n",
        "152 - 0.33333333333333337: [440] => [232,583,502] "
       ]
      },
      {
       "output_type": "stream",
       "stream": "stdout",
       "text": [
        "\n",
        "153 - 0.33333333333333337: [332] => [240,280] "
       ]
      },
      {
       "output_type": "stream",
       "stream": "stdout",
       "text": [
        "\n",
        "154 - 0.33333333333333337: [516] => [241,354] "
       ]
      },
      {
       "output_type": "stream",
       "stream": "stdout",
       "text": [
        "\n",
        "155 - 0.33333333333333337: [515] => [247] "
       ]
      },
      {
       "output_type": "stream",
       "stream": "stdout",
       "text": [
        "\n",
        "156 - 0.33333333333333337: [271] => [248] "
       ]
      },
      {
       "output_type": "stream",
       "stream": "stdout",
       "text": [
        "\n",
        "157 - 0.33333333333333337: [329] => [250] "
       ]
      },
      {
       "output_type": "stream",
       "stream": "stdout",
       "text": [
        "\n",
        "158 - 0.33333333333333337: [265] => [262] "
       ]
      },
      {
       "output_type": "stream",
       "stream": "stdout",
       "text": [
        "\n",
        "159 - 0.33333333333333337: [264] => [262,265] "
       ]
      },
      {
       "output_type": "stream",
       "stream": "stdout",
       "text": [
        "\n",
        "160 - 0.33333333333333337: [316] => [262,265,264] "
       ]
      },
      {
       "output_type": "stream",
       "stream": "stdout",
       "text": [
        "\n",
        "161 - 0.33333333333333337: [326] => [263] "
       ]
      },
      {
       "output_type": "stream",
       "stream": "stdout",
       "text": [
        "\n",
        "162 - 0.33333333333333337: [436] => [263,326] "
       ]
      },
      {
       "output_type": "stream",
       "stream": "stdout",
       "text": [
        "\n",
        "163 - 0.33333333333333337: [535] => [263,326,436] "
       ]
      },
      {
       "output_type": "stream",
       "stream": "stdout",
       "text": [
        "\n",
        "164 - 0.33333333333333337: [348] => [268,272] "
       ]
      },
      {
       "output_type": "stream",
       "stream": "stdout",
       "text": [
        "\n",
        "165 - 0.33333333333333337: [349] => [268,272,348] "
       ]
      },
      {
       "output_type": "stream",
       "stream": "stdout",
       "text": [
        "\n",
        "166 - 0.33333333333333337: [353] => [268,272,348,349] "
       ]
      },
      {
       "output_type": "stream",
       "stream": "stdout",
       "text": [
        "\n",
        "167 - 0.33333333333333337: [328] => [293] "
       ]
      },
      {
       "output_type": "stream",
       "stream": "stdout",
       "text": [
        "\n",
        "168 - 0.33333333333333337: [396] => [394,395] "
       ]
      },
      {
       "output_type": "stream",
       "stream": "stdout",
       "text": [
        "\n",
        "169 - 0.33333333333333337: [517,526] => [422,508,525] "
       ]
      },
      {
       "output_type": "stream",
       "stream": "stdout",
       "text": [
        "\n",
        "170 - 0.33333333333333337: [460] => [422,508,525,517,526] "
       ]
      },
      {
       "output_type": "stream",
       "stream": "stdout",
       "text": [
        "\n",
        "171 - 0.33333333333333337: [435] => [433,505] "
       ]
      },
      {
       "output_type": "stream",
       "stream": "stdout",
       "text": [
        "\n",
        "172 - 0.33333333333333337: [522,523] => [465] "
       ]
      },
      {
       "output_type": "stream",
       "stream": "stdout",
       "text": [
        "\n",
        "173 - 0.33333333333333337: [598] => [596] "
       ]
      },
      {
       "output_type": "stream",
       "stream": "stdout",
       "text": [
        "\n",
        "174 - 0.4: [591] => [232,583,502,440] "
       ]
      },
      {
       "output_type": "stream",
       "stream": "stdout",
       "text": [
        "\n",
        "175 - 0.4: [357] => [327] "
       ]
      },
      {
       "output_type": "stream",
       "stream": "stdout",
       "text": [
        "\n",
        "elapsed time: "
       ]
      },
      {
       "output_type": "stream",
       "stream": "stdout",
       "text": [
        "719.827127713 seconds (14158 MB allocated, 60.89% gc time in 627 pauses with 45 full sweep)\n",
        "1 - 0.0: [137] => [5] "
       ]
      },
      {
       "output_type": "stream",
       "stream": "stdout",
       "text": [
        "\n",
        "2 - 0.0: [31] => [9] "
       ]
      },
      {
       "output_type": "stream",
       "stream": "stdout",
       "text": [
        "\n",
        "3 - 0.0: [37] => [9,31] "
       ]
      },
      {
       "output_type": "stream",
       "stream": "stdout",
       "text": [
        "\n",
        "4 - 0.0: [69] => [9,31,37] "
       ]
      },
      {
       "output_type": "stream",
       "stream": "stdout",
       "text": [
        "\n",
        "5 - 0.0: [98] => [9,31,37,69] "
       ]
      },
      {
       "output_type": "stream",
       "stream": "stdout",
       "text": [
        "\n",
        "6 - 0.0: [101] => [9,31,37,69,98] "
       ]
      },
      {
       "output_type": "stream",
       "stream": "stdout",
       "text": [
        "\n",
        "7 - 0.0: [125] => [10] "
       ]
      },
      {
       "output_type": "stream",
       "stream": "stdout",
       "text": [
        "\n",
        "8 - 0.0: [356] => [11] "
       ]
      },
      {
       "output_type": "stream",
       "stream": "stdout",
       "text": [
        "\n",
        "9 - 0.0: [416] => [11,356] "
       ]
      },
      {
       "output_type": "stream",
       "stream": "stdout",
       "text": [
        "\n",
        "10 - 0.0: [486] => [11,356,416] "
       ]
      },
      {
       "output_type": "stream",
       "stream": "stdout",
       "text": [
        "\n",
        "11 - 0.0: [55] => [16] "
       ]
      },
      {
       "output_type": "stream",
       "stream": "stdout",
       "text": [
        "\n",
        "12 - 0.0: [56] => [16,55] "
       ]
      },
      {
       "output_type": "stream",
       "stream": "stdout",
       "text": [
        "\n",
        "13 - 0.0: [404] => [19] "
       ]
      },
      {
       "output_type": "stream",
       "stream": "stdout",
       "text": [
        "\n",
        "14 - 0.0: [176] => [33] "
       ]
      },
      {
       "output_type": "stream",
       "stream": "stdout",
       "text": [
        "\n",
        "15 - 0.0: [370] => [33,176] "
       ]
      },
      {
       "output_type": "stream",
       "stream": "stdout",
       "text": [
        "\n",
        "16 - 0.0: [39] => [35] "
       ]
      },
      {
       "output_type": "stream",
       "stream": "stdout",
       "text": [
        "\n",
        "17 - 0.0: [361] => [35,39] "
       ]
      },
      {
       "output_type": "stream",
       "stream": "stdout",
       "text": [
        "\n",
        "18 - 0.0: [126] => [41] "
       ]
      },
      {
       "output_type": "stream",
       "stream": "stdout",
       "text": [
        "\n",
        "19 - 0.0: [420] => [47] "
       ]
      },
      {
       "output_type": "stream",
       "stream": "stdout",
       "text": [
        "\n",
        "20 - 0.0: [434] => [47,420] "
       ]
      },
      {
       "output_type": "stream",
       "stream": "stdout",
       "text": [
        "\n",
        "21 - 0.0: [449] => [47,420,434] "
       ]
      },
      {
       "output_type": "stream",
       "stream": "stdout",
       "text": [
        "\n",
        "22 - 0.0: [499] => [47,420,434,449] "
       ]
      },
      {
       "output_type": "stream",
       "stream": "stdout",
       "text": [
        "\n",
        "23 - 0.0: [500] => [60] "
       ]
      },
      {
       "output_type": "stream",
       "stream": "stdout",
       "text": [
        "\n",
        "24 - 0.0: [513] => [60,500] "
       ]
      },
      {
       "output_type": "stream",
       "stream": "stdout",
       "text": [
        "\n",
        "25 - 0.0: [75] => [61] "
       ]
      },
      {
       "output_type": "stream",
       "stream": "stdout",
       "text": [
        "\n",
        "26 - 0.0: [100] => [64] "
       ]
      },
      {
       "output_type": "stream",
       "stream": "stdout",
       "text": [
        "\n",
        "27 - 0.0: [335] => [67] "
       ]
      },
      {
       "output_type": "stream",
       "stream": "stdout",
       "text": [
        "\n",
        "28 - 0.0: [409] => [67,335] "
       ]
      },
      {
       "output_type": "stream",
       "stream": "stdout",
       "text": [
        "\n",
        "29 - 0.0: [237] => [74] "
       ]
      },
      {
       "output_type": "stream",
       "stream": "stdout",
       "text": [
        "\n",
        "30 - 0.0: [343] => [74,237] "
       ]
      },
      {
       "output_type": "stream",
       "stream": "stdout",
       "text": [
        "\n",
        "31 - 0.0: [379] => [74,237,343] "
       ]
      },
      {
       "output_type": "stream",
       "stream": "stdout",
       "text": [
        "\n",
        "32 - 0.0: [380] => [74,237,343,379] "
       ]
      },
      {
       "output_type": "stream",
       "stream": "stdout",
       "text": [
        "\n",
        "33 - 0.0: [381] => [74,237,343,379,380] "
       ]
      },
      {
       "output_type": "stream",
       "stream": "stdout",
       "text": [
        "\n",
        "34 - 0.0: [424] => [74,237,343,379,380,381] "
       ]
      },
      {
       "output_type": "stream",
       "stream": "stdout",
       "text": [
        "\n",
        "35 - 0.0: [554] => [74,237,343,379,380,381,424] "
       ]
      },
      {
       "output_type": "stream",
       "stream": "stdout",
       "text": [
        "\n",
        "36 - 0.0: [586] => [74,237,343,379,380,381,424,554] "
       ]
      },
      {
       "output_type": "stream",
       "stream": "stdout",
       "text": [
        "\n",
        "37 - 0.0: [587] => [74,237,343,379,380,381,424,554,586] "
       ]
      },
      {
       "output_type": "stream",
       "stream": "stdout",
       "text": [
        "\n",
        "38 - 0.0: [588] => [74,237,343,379,380,381,424,554,586,587] "
       ]
      },
      {
       "output_type": "stream",
       "stream": "stdout",
       "text": [
        "\n",
        "39 - 0.0: [589] => [74,237,343,379,380,381,424,554,586,587,588] "
       ]
      },
      {
       "output_type": "stream",
       "stream": "stdout",
       "text": [
        "\n",
        "40 - 0.0: [590] => [74,237,343,379,380,381,424,554,586,587,588,589] "
       ]
      },
      {
       "output_type": "stream",
       "stream": "stdout",
       "text": [
        "\n",
        "41 - 0.0: [133] => [110] "
       ]
      },
      {
       "output_type": "stream",
       "stream": "stdout",
       "text": [
        "\n",
        "42 - 0.0: [438] => [116] "
       ]
      },
      {
       "output_type": "stream",
       "stream": "stdout",
       "text": [
        "\n",
        "43 - 0.0: [564] => [131] "
       ]
      },
      {
       "output_type": "stream",
       "stream": "stdout",
       "text": [
        "\n",
        "44 - 0.0: [217] => [142] "
       ]
      },
      {
       "output_type": "stream",
       "stream": "stdout",
       "text": [
        "\n",
        "45 - 0.0: [157] => [145] "
       ]
      },
      {
       "output_type": "stream",
       "stream": "stdout",
       "text": [
        "\n",
        "46 - 0.0: [204] => [145,157] "
       ]
      },
      {
       "output_type": "stream",
       "stream": "stdout",
       "text": [
        "\n",
        "47 - 0.0: [213] => [145,157,204] "
       ]
      },
      {
       "output_type": "stream",
       "stream": "stdout",
       "text": [
        "\n",
        "48 - 0.0: [178] => [146] "
       ]
      },
      {
       "output_type": "stream",
       "stream": "stdout",
       "text": [
        "\n",
        "49 - 0.0: [186] => [148] "
       ]
      },
      {
       "output_type": "stream",
       "stream": "stdout",
       "text": [
        "\n",
        "50 - 0.0: [224] => [148,186] "
       ]
      },
      {
       "output_type": "stream",
       "stream": "stdout",
       "text": [
        "\n",
        "51 - 0.0: [167] => [150] "
       ]
      },
      {
       "output_type": "stream",
       "stream": "stdout",
       "text": [
        "\n",
        "52 - 0.0: [171] => [150,167] "
       ]
      },
      {
       "output_type": "stream",
       "stream": "stdout",
       "text": [
        "\n",
        "53 - 0.0: [180] => [158] "
       ]
      },
      {
       "output_type": "stream",
       "stream": "stdout",
       "text": [
        "\n",
        "54 - 0.0: [220] => [158,180] "
       ]
      },
      {
       "output_type": "stream",
       "stream": "stdout",
       "text": [
        "\n",
        "55 - 0.0: [194] => [161] "
       ]
      },
      {
       "output_type": "stream",
       "stream": "stdout",
       "text": [
        "\n",
        "56 - 0.0: [168] => [163] "
       ]
      },
      {
       "output_type": "stream",
       "stream": "stdout",
       "text": [
        "\n",
        "57 - 0.0: [185] => [163,168] "
       ]
      },
      {
       "output_type": "stream",
       "stream": "stdout",
       "text": [
        "\n",
        "58 - 0.0: [340] => [181] "
       ]
      },
      {
       "output_type": "stream",
       "stream": "stdout",
       "text": [
        "\n",
        "59 - 0.0: [222] => [190] "
       ]
      },
      {
       "output_type": "stream",
       "stream": "stdout",
       "text": [
        "\n",
        "60 - 0.0: [214] => [201] "
       ]
      },
      {
       "output_type": "stream",
       "stream": "stdout",
       "text": [
        "\n",
        "61 - 0.0: [218] => [210] "
       ]
      },
      {
       "output_type": "stream",
       "stream": "stdout",
       "text": [
        "\n",
        "62 - 0.0: [347] => [229] "
       ]
      },
      {
       "output_type": "stream",
       "stream": "stdout",
       "text": [
        "\n",
        "63 - 0.0: [583] => [232] "
       ]
      },
      {
       "output_type": "stream",
       "stream": "stdout",
       "text": [
        "\n",
        "64 - 0.0: [568] => [238] "
       ]
      },
      {
       "output_type": "stream",
       "stream": "stdout",
       "text": [
        "\n",
        "65 - 0.0: [280] => [240] "
       ]
      },
      {
       "output_type": "stream",
       "stream": "stdout",
       "text": [
        "\n",
        "66 - 0.0: [354] => [241] "
       ]
      },
      {
       "output_type": "stream",
       "stream": "stdout",
       "text": [
        "\n",
        "67 - 0.0: [470] => [243] "
       ]
      },
      {
       "output_type": "stream",
       "stream": "stdout",
       "text": [
        "\n",
        "68 - 0.0: [318] => [246] "
       ]
      },
      {
       "output_type": "stream",
       "stream": "stdout",
       "text": [
        "\n",
        "69 - 0.0: [333] => [246,318] "
       ]
      },
      {
       "output_type": "stream",
       "stream": "stdout",
       "text": [
        "\n",
        "70 - 0.0: [408] => [246,318,333] "
       ]
      },
      {
       "output_type": "stream",
       "stream": "stdout",
       "text": [
        "\n",
        "71 - 0.0: [284] => [283] "
       ]
      },
      {
       "output_type": "stream",
       "stream": "stdout",
       "text": [
        "\n",
        "72 - 0.0: [292] => [289] "
       ]
      },
      {
       "output_type": "stream",
       "stream": "stdout",
       "text": [
        "\n",
        "73 - 0.0: [294] => [289,292] "
       ]
      },
      {
       "output_type": "stream",
       "stream": "stdout",
       "text": [
        "\n",
        "74 - 0.0: [295] => [289,292,294] "
       ]
      },
      {
       "output_type": "stream",
       "stream": "stdout",
       "text": [
        "\n",
        "75 - 0.0: [296] => [289,292,294,295] "
       ]
      },
      {
       "output_type": "stream",
       "stream": "stdout",
       "text": [
        "\n",
        "76 - 0.0: [306] => [289,292,294,295,296] "
       ]
      },
      {
       "output_type": "stream",
       "stream": "stdout",
       "text": [
        "\n",
        "77 - 0.0: [307] => [289,292,294,295,296,306] "
       ]
      },
      {
       "output_type": "stream",
       "stream": "stdout",
       "text": [
        "\n",
        "78 - 0.0: [314] => [289,292,294,295,296,306,307] "
       ]
      },
      {
       "output_type": "stream",
       "stream": "stdout",
       "text": [
        "\n",
        "79 - 0.0: [317] => [289,292,294,295,296,306,307,314] "
       ]
      },
      {
       "output_type": "stream",
       "stream": "stdout",
       "text": [
        "\n",
        "80 - 0.0: [480] => [289,292,294,295,296,306,307,314,317] "
       ]
      },
      {
       "output_type": "stream",
       "stream": "stdout",
       "text": [
        "\n",
        "81 - 0.0: [488] => [289,292,294,295,296,306,307,314,317,480] "
       ]
      },
      {
       "output_type": "stream",
       "stream": "stdout",
       "text": [
        "\n",
        "82 - 0.0: [389] => [291] "
       ]
      },
      {
       "output_type": "stream",
       "stream": "stdout",
       "text": [
        "\n",
        "83 - 0.0: [337] => [297] "
       ]
      },
      {
       "output_type": "stream",
       "stream": "stdout",
       "text": [
        "\n",
        "84 - 0.0: [390] => [330] "
       ]
      },
      {
       "output_type": "stream",
       "stream": "stdout",
       "text": [
        "\n",
        "85 - 0.0: [492] => [330,390] "
       ]
      },
      {
       "output_type": "stream",
       "stream": "stdout",
       "text": [
        "\n",
        "86 - 0.0: [350] => [334] "
       ]
      },
      {
       "output_type": "stream",
       "stream": "stdout",
       "text": [
        "\n",
        "87 - 0.0: [373] => [358] "
       ]
      },
      {
       "output_type": "stream",
       "stream": "stdout",
       "text": [
        "\n",
        "88 - 0.0: [468] => [358,373] "
       ]
      },
      {
       "output_type": "stream",
       "stream": "stdout",
       "text": [
        "\n",
        "89 - 0.0: [482] => [358,373,468] "
       ]
      },
      {
       "output_type": "stream",
       "stream": "stdout",
       "text": [
        "\n",
        "90 - 0.0: [483] => [358,373,468,482] "
       ]
      },
      {
       "output_type": "stream",
       "stream": "stdout",
       "text": [
        "\n",
        "91 - 0.0: [375] => [362] "
       ]
      },
      {
       "output_type": "stream",
       "stream": "stdout",
       "text": [
        "\n",
        "92 - 0.0: [387] => [364] "
       ]
      },
      {
       "output_type": "stream",
       "stream": "stdout",
       "text": [
        "\n",
        "93 - 0.0: [494] => [364,387] "
       ]
      },
      {
       "output_type": "stream",
       "stream": "stdout",
       "text": [
        "\n",
        "94 - 0.0: [473] => [365] "
       ]
      },
      {
       "output_type": "stream",
       "stream": "stdout",
       "text": [
        "\n",
        "95 - 0.0: [484] => [365,473] "
       ]
      },
      {
       "output_type": "stream",
       "stream": "stdout",
       "text": [
        "\n",
        "96 - 0.0: [485] => [365,473,484] "
       ]
      },
      {
       "output_type": "stream",
       "stream": "stdout",
       "text": [
        "\n",
        "97 - 0.0: [489] => [365,473,484,485] "
       ]
      },
      {
       "output_type": "stream",
       "stream": "stdout",
       "text": [
        "\n",
        "98 - 0.0: [491] => [365,473,484,485,489] "
       ]
      },
      {
       "output_type": "stream",
       "stream": "stdout",
       "text": [
        "\n",
        "99 - 0.0: [423] => [366] "
       ]
      },
      {
       "output_type": "stream",
       "stream": "stdout",
       "text": [
        "\n",
        "100 - 0.0: [471] => [366,423] "
       ]
      },
      {
       "output_type": "stream",
       "stream": "stdout",
       "text": [
        "\n",
        "101 - 0.0: [616] => [366,423,471] "
       ]
      },
      {
       "output_type": "stream",
       "stream": "stdout",
       "text": [
        "\n",
        "102 - 0.0: [398] => [368] "
       ]
      },
      {
       "output_type": "stream",
       "stream": "stdout",
       "text": [
        "\n",
        "103 - 0.0: [400] => [368,398] "
       ]
      },
      {
       "output_type": "stream",
       "stream": "stdout",
       "text": [
        "\n",
        "104 - 0.0: [405] => [368,398,400] "
       ]
      },
      {
       "output_type": "stream",
       "stream": "stdout",
       "text": [
        "\n",
        "105 - 0.0: [406] => [368,398,400,405] "
       ]
      },
      {
       "output_type": "stream",
       "stream": "stdout",
       "text": [
        "\n",
        "106 - 0.0: [407] => [368,398,400,405,406] "
       ]
      },
      {
       "output_type": "stream",
       "stream": "stdout",
       "text": [
        "\n",
        "107 - 0.0: [377] => [371] "
       ]
      },
      {
       "output_type": "stream",
       "stream": "stdout",
       "text": [
        "\n",
        "108 - 0.0: [474] => [371,377] "
       ]
      },
      {
       "output_type": "stream",
       "stream": "stdout",
       "text": [
        "\n",
        "109 - 0.0: [472] => [376] "
       ]
      },
      {
       "output_type": "stream",
       "stream": "stdout",
       "text": [
        "\n",
        "110 - 0.0: [384] => [383] "
       ]
      },
      {
       "output_type": "stream",
       "stream": "stdout",
       "text": [
        "\n",
        "111 - 0.0: [385] => [383,384] "
       ]
      },
      {
       "output_type": "stream",
       "stream": "stdout",
       "text": [
        "\n",
        "112 - 0.0: [386] => [383,384,385] "
       ]
      },
      {
       "output_type": "stream",
       "stream": "stdout",
       "text": [
        "\n",
        "113 - 0.0: [413] => [388] "
       ]
      },
      {
       "output_type": "stream",
       "stream": "stdout",
       "text": [
        "\n",
        "114 - 0.0: [393] => [392] "
       ]
      },
      {
       "output_type": "stream",
       "stream": "stdout",
       "text": [
        "\n",
        "115 - 0.0: [395] => [394] "
       ]
      },
      {
       "output_type": "stream",
       "stream": "stdout",
       "text": [
        "\n",
        "116 - 0.0: [467] => [401] "
       ]
      },
      {
       "output_type": "stream",
       "stream": "stdout",
       "text": [
        "\n",
        "117 - 0.0: [479] => [415] "
       ]
      },
      {
       "output_type": "stream",
       "stream": "stdout",
       "text": [
        "\n",
        "118 - 0.0: [428] => [427] "
       ]
      },
      {
       "output_type": "stream",
       "stream": "stdout",
       "text": [
        "\n",
        "119 - 0.0: [510] => [427,428] "
       ]
      },
      {
       "output_type": "stream",
       "stream": "stdout",
       "text": [
        "\n",
        "120 - 0.0: [505] => [433] "
       ]
      },
      {
       "output_type": "stream",
       "stream": "stdout",
       "text": [
        "\n",
        "121 - 0.0: [446] => [445] "
       ]
      },
      {
       "output_type": "stream",
       "stream": "stdout",
       "text": [
        "\n",
        "122 - 0.0: [447] => [445,446] "
       ]
      },
      {
       "output_type": "stream",
       "stream": "stdout",
       "text": [
        "\n",
        "123 - 0.0: [511] => [458] "
       ]
      },
      {
       "output_type": "stream",
       "stream": "stdout",
       "text": [
        "\n",
        "124 - 0.0: [512] => [458,511] "
       ]
      },
      {
       "output_type": "stream",
       "stream": "stdout",
       "text": [
        "\n",
        "125 - 0.0: [487] => [469] "
       ]
      },
      {
       "output_type": "stream",
       "stream": "stdout",
       "text": [
        "\n",
        "126 - 0.0: [495] => [475] "
       ]
      },
      {
       "output_type": "stream",
       "stream": "stdout",
       "text": [
        "\n",
        "127 - 0.0: [602] => [496] "
       ]
      },
      {
       "output_type": "stream",
       "stream": "stdout",
       "text": [
        "\n",
        "128 - 0.0: [608] => [497] "
       ]
      },
      {
       "output_type": "stream",
       "stream": "stdout",
       "text": [
        "\n",
        "129 - 0.0: [509] => [507] "
       ]
      },
      {
       "output_type": "stream",
       "stream": "stdout",
       "text": [
        "\n",
        "130 - 0.0: [526] => [517] "
       ]
      },
      {
       "output_type": "stream",
       "stream": "stdout",
       "text": [
        "\n",
        "131 - 0.0: [603] => [552] "
       ]
      },
      {
       "output_type": "stream",
       "stream": "stdout",
       "text": [
        "\n",
        "132 - 0.0: [593] => [592] "
       ]
      },
      {
       "output_type": "stream",
       "stream": "stdout",
       "text": [
        "\n",
        "133 - 0.0: [614] => [612] "
       ]
      },
      {
       "output_type": "stream",
       "stream": "stdout",
       "text": [
        "\n",
        "134 - 0.25: [272] => [268] "
       ]
      },
      {
       "output_type": "stream",
       "stream": "stdout",
       "text": [
        "\n",
        "135 - 0.25: [508] => [422] "
       ]
      },
      {
       "output_type": "stream",
       "stream": "stdout",
       "text": [
        "\n",
        "136 - 0.25: [525] => [422,508] "
       ]
      },
      {
       "output_type": "stream",
       "stream": "stdout",
       "text": [
        "\n",
        "137 - 0.25: [523] => [522] "
       ]
      },
      {
       "output_type": "stream",
       "stream": "stdout",
       "text": [
        "\n",
        "138 - 0.25: [615] => [540] "
       ]
      },
      {
       "output_type": "stream",
       "stream": "stdout",
       "text": [
        "\n",
        "139 - 0.25: [549] => [540,615] "
       ]
      },
      {
       "output_type": "stream",
       "stream": "stdout",
       "text": [
        "\n",
        "140 - 0.25: [612,614] => [540,615,549] "
       ]
      },
      {
       "output_type": "stream",
       "stream": "stdout",
       "text": [
        "\n",
        "141 - 0.33333333333333337: [48] => [22] "
       ]
      },
      {
       "output_type": "stream",
       "stream": "stdout",
       "text": [
        "\n",
        "142 - 0.33333333333333337: [127] => [27] "
       ]
      },
      {
       "output_type": "stream",
       "stream": "stdout",
       "text": [
        "\n",
        "143 - 0.33333333333333337: [138] => [64,100] "
       ]
      },
      {
       "output_type": "stream",
       "stream": "stdout",
       "text": [
        "\n",
        "144 - 0.33333333333333337: [123] => [65] "
       ]
      },
      {
       "output_type": "stream",
       "stream": "stdout",
       "text": [
        "\n",
        "145 - 0.33333333333333337: [135] => [65,123] "
       ]
      },
      {
       "output_type": "stream",
       "stream": "stdout",
       "text": [
        "\n",
        "146 - 0.33333333333333337: [109] => [104] "
       ]
      },
      {
       "output_type": "stream",
       "stream": "stdout",
       "text": [
        "\n",
        "147 - 0.33333333333333337: [528] => [115] "
       ]
      },
      {
       "output_type": "stream",
       "stream": "stdout",
       "text": [
        "\n",
        "148 - 0.33333333333333337: [425] => [115,528] "
       ]
      },
      {
       "output_type": "stream",
       "stream": "stdout",
       "text": [
        "\n",
        "149 - 0.33333333333333337: [184] => [154] "
       ]
      },
      {
       "output_type": "stream",
       "stream": "stdout",
       "text": [
        "\n",
        "150 - 0.33333333333333337: [283,284] => [230] "
       ]
      },
      {
       "output_type": "stream",
       "stream": "stdout",
       "text": [
        "\n",
        "151 - 0.33333333333333337: [502] => [232,583] "
       ]
      },
      {
       "output_type": "stream",
       "stream": "stdout",
       "text": [
        "\n",
        "152 - 0.33333333333333337: [440] => [232,583,502] "
       ]
      },
      {
       "output_type": "stream",
       "stream": "stdout",
       "text": [
        "\n",
        "153 - 0.33333333333333337: [332] => [240,280] "
       ]
      },
      {
       "output_type": "stream",
       "stream": "stdout",
       "text": [
        "\n",
        "154 - 0.33333333333333337: [516] => [241,354] "
       ]
      },
      {
       "output_type": "stream",
       "stream": "stdout",
       "text": [
        "\n",
        "155 - 0.33333333333333337: [515] => [247] "
       ]
      }
     ]
    },
    {
     "cell_type": "markdown",
     "metadata": {},
     "source": [
      "elapsed time: 147.313420989 seconds (16268 MB allocated, 2.88% gc time in 744 pauses with 0 full sweep)"
     ]
    },
    {
     "cell_type": "code",
     "collapsed": false,
     "input": [
      "function get_people(people_strs::AbstractArray{UTF8String})\n",
      "    function split_strip(fields::String)\n",
      "        fields = split(fields,[','])\n",
      "        map(strip, fields)\n",
      "    end\n",
      "    \n",
      "    people = Set()\n",
      "    for people_str in people_strs\n",
      "        union!(people, split_strip(people_str))\n",
      "    end \n",
      "    join(people, \", \")   \n",
      "end \n",
      "\n",
      "sclusters = sort(collect(cluster_ids), by=x->-length(x))\n",
      "for doc_ids in sclusters\n",
      "    people = get_people(con[doc_ids,:people])\n",
      "\n",
      "    sessions = [\"$title ($year)\" for (title,year) in zip((con[doc_ids,:title], con[doc_ids,:year])...)]\n",
      "    sort!(sessions)\n",
      "    println(\"------------------------------\")\n",
      "    println(\"###$people\")\n",
      "    println(\" - \", join(sessions, \"\\n - \"))\n",
      "    println()\n",
      "\n",
      "end"
     ],
     "language": "python",
     "metadata": {},
     "outputs": [
      {
       "output_type": "stream",
       "stream": "stdout",
       "text": [
        "------------------------------\n"
       ]
      },
      {
       "output_type": "stream",
       "stream": "stdout",
       "text": [
        "###Gina Goddard, Emily Smith, Maia, Tim McDougall, PRK, Bec Handcock, Juliet Marillier, Isobelle Carmody, Graeme Watson, Lara Morgan, Kathleen Griffiths, Sophie Ambrose, Jim Butcher, Trudi Canavan, Chris Coman, Sonia Marcon, Sally Beasley, James Morgan, Paul Kidd, David Thatcher, Frames White, Dave Luckett, Anne Bishop, Theresa Anns, Stephen Griffiths, Ju Land\u00e9esse, Tori K, Stephanie Bateman-Graham, Candice Schilder, Kitty Hemsley, Samara Morgan, Anthony Panegyres, Grant Watson, Cat Sparks, Vanessa Huang, David Gunn, Glenda Larke, Shay Telfer, Tom Eitelhuber, Sally Hemsley, Karina Coldrick, Sarah Parker, Richard Morgan, Tina Eitelhuber, Andrew Harvey, Jenny Blackford\n",
        " - 2011 in Film - Part 1 (2012)\n",
        " - 2011 in Film - Part 2 (2012)\n",
        " - 2012 in film (2013)\n",
        " - 6 Degrees of Kevin Bacon (2012)\n",
        " - Aliens and Spaceships and Tardis', Oh My! (2012)\n",
        " - Anne Bishop Guest of Honour Q&A (2014)\n",
        " - Anne Bishop Reading (2014)\n",
        " - Auction (2012)\n",
        " - Battlestar Galactica (2009)\n",
        " - Beyond Potter and Twilight (2012)\n",
        " - Book Club (2013)\n",
        " - Buffy Apocalypses (2012)\n",
        " - Channel Flicking (2009)\n",
        " - Cherie Priest Q and A (2013)\n",
        " - Children's Masquerade (2013)\n",
        " - Comics that are awesome, new and worth reading (2013)\n",
        " - Creating Believable Magic Systems (2014)\n",
        " - Decode an Alien signal (2012)\n",
        " - Decode an Alien signal (2013)\n",
        " - Exploring The Hunger Games (2012)\n",
        " - Hard SF with the soft sciences (2009)\n",
        " - Help Program Swancon 2013 (2012)\n",
        " - How come vampires are heroes now? (2009)\n",
        " - How does technology create society? (2009)\n",
        " - It followed me home mum, can I keep it?: Fantastical Pets (2014)\n",
        " - Keeping it Fresh: New Ideas For Old Series (2014)\n",
        " - Lunch at Lido 12:30pm-2pm - Welcome to your first convention! (2009)\n",
        " - MTV animation of the 90s - a retrospective (2013)\n",
        " - Machines can do the Work: How far are we away from home robotic automation? (2014)\n",
        " - Maintaining a useful and meaningful web presence 101 for authors (2014)\n",
        " - Masquerade Judging: 8pm - 9pm (2009)\n",
        " - Matriarchies in Fiction and Reality (2014)\n",
        " - Moderators' training (2013)\n",
        " - No pain, no gain (2014)\n",
        " - Old school roleplaying (2013)\n",
        " - Outland Screening & Discussion (2012)\n",
        " - Paranormal Romance (2012)\n",
        " - Please Explain: Guardians of the Galaxy and Antman (2014)\n",
        " - Quiet Time 3 (2013)\n",
        " - Readings (2009)\n",
        " - Real-Life Magic (2014)\n",
        " - Romero Retrospective (2012)\n",
        " - Safe Spaces (2012)\n",
        " - Sexuality in Speculative fiction (2009)\n",
        " - Strange Invocations: 2014 Masquerade (2014)\n",
        " - Swancon 2013 Masquerade: Remix (2013)\n",
        " - Tabletop Masquerade (2012)\n",
        " - Tabletop Masquerade (2013)\n",
        " - Taking Advantage: Funding Options for Artists and Fans (2009)\n",
        " - The Disney Renaissance: Fresh Blood in the House of Mouse (2013)\n",
        " - The Future of the Future (2009)\n",
        " - The Secrets Of Fringe (2012)\n",
        " - The Tech Of Invisibility (2014)\n",
        " - The Visual Tropes of Anime (2014)\n",
        " - Top 10 SF&F TV Shows - Vote! (2009)\n",
        " - Trailer Park (2009)\n",
        " - Trailer Park (2012)\n",
        " - Trailer Park (2013)\n",
        " - Trailer Park (2014)\n",
        " - Walt Disney: Animation's Magic Kingdom (2009)\n",
        " - What's New in SFF for Kids & YA (2009)\n",
        " - What's On Today - Friday morning edition (2013)\n",
        " - What's On Today - Monday morning edition (2013)\n",
        " - What's On Today - Saturday morning edition (2013)\n",
        " - What's On Today - Sunday morning edition (2013)\n",
        " - What's hot in Fantasy? (2009)\n",
        " - Women at Worldcon - Round Table Discussion (2009)\n",
        " - Writing Overtly Feminist Books In A Non Feminist World (2014)\n",
        " - Writing \u2013 The Lifestyle (2014)\n",
        " - Young adults and dystopias: a love story (2012)\n",
        " - Zombie Makeup Tutorial (2012)\n",
        "\n",
        "------------------------------\n",
        "###Theresa Anns, Mike O'Brien, Grant Watson, Heather Magee, Colin Sharp, David Medlen, Alexis Hemsley, Kris Bather, Kevin McCaw, Michael Cogan, Damian Magee, Wuffie, Matt Lindus, Danny Oz, Sha Sharp, Aaron Creaser, Colin Sharpe, John Robertson\n",
        " - 1985 - A Season of Change for Dr. Who (2012)\n",
        " - A Brief History of Time Travel (2009)\n",
        " - Australia's Role in Space Research (2012)\n",
        " - BATMAN Animated: From 1968 To Today (2014)\n",
        " - Book Club: Hosted lunch (2009)\n",
        " - Classic Who Season 5: The Monster Season (2014)\n",
        " - Comics: Where should I start? (2012)\n",
        " - Crucial moments in Classic Dr Who (2014)\n",
        " - Dark Shadows (2012)\n",
        " - Doctor Who: the 20th season (2013)\n",
        " - Doctor Who: the most recent season (2013)\n",
        " - Dr Who's Lost Stories (2012)\n",
        " - Dr Who: Series 7, Part 2 (2014)\n",
        " - Dungeons & Dragons RPG for Beginners (2012)\n",
        " - Exploring Dr Who: The Most Recent Season (2012)\n",
        " - Final Landing: The End of The Shuttle Era (2012)\n",
        " - Hanna-Barbera Cartoons: How do they stand up today? (2014)\n",
        " - Japanese Live Action of the 1960's (2012)\n",
        " - Life on Mars & Ashes to Ashes - What did it all mean? (2012)\n",
        " - Live Action Versions of Anime (2012)\n",
        " - Magical Hat of Mysteries (2009)\n",
        " - Oh Doctor, My Doctor (2012)\n",
        " - Point and Praise: Foreign Live Action shows you may have missed (2014)\n",
        " - Revisiting The Classics: A Look At Our Favourite Films of the Past (2014)\n",
        " - Spy Spoofs (2009)\n",
        " - The 17th annual Doctor Who panel (2009)\n",
        " - The Boardgame Geek - Beyond Settlers (2009)\n",
        " - The Life And Times of Hayao Miyazki (2014)\n",
        " - The Manga Was Better... (2014)\n",
        " - The Year - 1969 (2009)\n",
        " - The legacy of Quatermass (2013)\n",
        " - Tintin (2009)\n",
        " - Video Quiz (2009)\n",
        " - Video Quiz (2012)\n",
        " - Video Quiz (2013)\n",
        " - Video Quiz: Year 8 (2014)\n",
        " - Wizards of Oz: adaptions, sequels & prequels (2014)\n",
        "\n",
        "------------------------------\n",
        "###Coman, Anna Hepworth, Krisjan Lie, Mike Thompson, David Cake, Royd, Jon Hayward, Doug Burbidge, Fern Clarke, Alistair McKie, Kendra Swaine, Elaine Walker, Leece, Candice Schilder, Brendan, John Parker, Kitty Hemsley, Chris Creagh, Samara Morgan, Paul Kidd, Margaret Watts\n",
        " - \"Nerd\" Music you may not have heard (2012)\n",
        " - Anthropormorphic Fantasy (2009)\n",
        " - Artifactory: what have they been up to? (2013)\n",
        " - Australian Young Adult Fiction (2013)\n",
        " - Create a Monster (2012)\n",
        " - Dixit (2012)\n",
        " - Feedback 2013 - the brief for Swancon 2014 (2013)\n",
        " - Filking (2013)\n",
        " - First Contact (2009)\n",
        " - From Dragonlance to That Movie: D&D spinoffs in other media (2014)\n",
        " - From Space Invaders to Mass Effect: Aliens in Video Games (2014)\n",
        " - Global Warming: Spike vs Precipice (2009)\n",
        " - Hack Your Hardware (V2.0b) (2009)\n",
        " - Homework panel (2013)\n",
        " - Is Space Opera Science Fiction? (2009)\n",
        " - Kit Kat Jenga (2013)\n",
        " - Kitty Pryde is Awesome! (2012)\n",
        " - Margaret Mahy \u2013 a retrospective (2013)\n",
        " - Nina Kiriki Hoffman: an author appreciation (2013)\n",
        " - Non 'dane in a Mundane World (2012)\n",
        " - Non-violent videogames (2009)\n",
        " - Reading: The King of the Copper Mountains (2009)\n",
        " - Rise of the Mutants: The X-Men under Chris Claremont (2014)\n",
        " - SF History At Murdoch (2012)\n",
        " - Shark Watch: Good Shows Gone Bad (2014)\n",
        " - Sorcerers and Storytellers (2009)\n",
        " - Stories in the Stars (2012)\n",
        " - Swancon 2014 Launch (2013)\n",
        " - Swancon QI (2009)\n",
        " - The Collapse of Civilisation (2009)\n",
        " - The Devil in the Radio (2013)\n",
        " - The house that Diamond Built (2012)\n",
        " - Wham! Pow! Hug!: Our Favourite Comics (2014)\n",
        " - Where is Ivan? (2009)\n",
        " - Write a role playing campaign in two hours (2013)\n",
        " - Zombie Apocalypse Survival in the Fan Lounge (2009)\n",
        "\n",
        "------------------------------\n",
        "###Elaine Kemp, Ian Nichols, Cathy Cupitt, Gail Simone, Helen Duffill, Doug Burbridge, Kendra Swaine, Charles Stross, Chris Creagh, Sarah Parker, Lucy Sussex, Sue Isle, , John Birmingham, Katherine McFarlane\n",
        " - 20 minutes sideways: Urban Fantasy (2013)\n",
        " - All in the manual - writing realism and technology into your fiction (2013)\n",
        " - Chris Creagh - In Conversation (2012)\n",
        " - Closing ceremony (2013)\n",
        " - Cosplay Photo session in the Hotel Lobby (2009)\n",
        " - E-Publishing, Digital Rights Management, and Coffee with Charles Stross and John Birmingham (2013)\n",
        " - Engaging with Social Media as a professional writer (2013)\n",
        " - Fairy tales: a grim resurgence (2013)\n",
        " - Femme Noir: women detective stories (2013)\n",
        " - Hidden History and Unsolved Crimes (2013)\n",
        " - How are we moving towards a vision of a sustainable future? (2013)\n",
        " - John Birmingham Reading (2013)\n",
        " - Lucy Sussex Presents The Cautionary Tale of Fergus Hume (2013)\n",
        " - NaNoWriMo Dos and Don'ts (2012)\n",
        " - Origami in the Fan Lounge (2009)\n",
        " - Pinwheels (2012)\n",
        " - Proto-panels - how to run a panel (2009)\n",
        " - Quiet Time 5 (2013)\n",
        " - The Entropy Crisis (2012)\n",
        " - The Haunting of Lucy Sussex (2013)\n",
        " - Whose future is this anyway? (2013)\n",
        " - Writing Alternative History (2013)\n",
        "\n",
        "------------------------------\n",
        "###Samara Morgan, Fern Clarke, Cathy Cupitt, Jaunita Landesse, Andrew Hahn, Coman, Anna Hepworth, Stephen Griffiths, Ash48, Jenny Owen\n",
        " - F*** me Ray Bradbury (2012)\n",
        " - Fan Vidding Party / Workshop (Room 78 Suite) (2013)\n",
        " - Fanvid Review (2013)\n",
        " - Madman Screenings (2013)\n",
        " - Music of geeky things (2013)\n",
        " - Quidditch (2009)\n",
        " - Race-cars, werewolves and copyright: Making transformative art  (2012)\n",
        " - Safe Spaces (2013)\n",
        " - The Battle for Copyright: Fandom versus Mega Corporations (2009)\n",
        " - The history of Ghibli (2013)\n",
        " - The rise of Transformative-media (2012)\n",
        " - The role of fan vids (2013)\n",
        " - Transformative media: the best of 2012 (2013)\n",
        " - Vidding 'how to'. Workshop/Presentation (2009)\n",
        " - Vidding Party setup (2013)\n",
        " - Writing Slash - Tips & Techniques (2009)\n",
        "\n",
        "------------------------------\n",
        "###Brandon Sanderson, Elaine Kemp, Paul Kidd, Cat Sparks, Zoe Wadsworth, Sue Isle, Marianne De Pierres, Bevan McGuiness, Stephen Dedman\n",
        " - \"How do I write interesting dialogue?\" she asked inquisitively (2012)\n",
        " - A Sense of Immersion (2012)\n",
        " - Brandon Sanderson - Book Signing (2012)\n",
        " - Brandon Sanderson - Guest of Honour Speech (2012)\n",
        " - Building a Post-Apocalyptic World (2012)\n",
        " - Gender Norms in Fiction (2012)\n",
        " - Help! My Story Is Broken! (2012)\n",
        " - Magic the Gathering Tournament (2012)\n",
        " - Marianne de Pierres - Book Signing (2012)\n",
        " - Marianne de Pierres - In conversation (2012)\n",
        " - Sanderson's First Law (2012)\n",
        " - The World of Parrish Plessis (2012)\n",
        " - What Do You Owe Your Reader? (2012)\n",
        " - Writing Across Genres (2012)\n",
        " - Writing in an Aussie voice (2009)\n",
        " - Writing in someone else's sandbox (2012)\n",
        "\n",
        "------------------------------\n",
        "###Emily Smith, Grant Watson, Gail Simone, Tori K, Adam McCaw, Kathleen Griffiths, Sarah Akers, Kitty Hemsley, Lisa Rye, Nancy Lorenz, Andy Phillips, Sarah Xu\n",
        " - BEEFCAKE!!! (2012)\n",
        " - Comic Art Corrections (2014)\n",
        " - Comic book character design workshop (2013)\n",
        " - Digital art (2009)\n",
        " - Draw your own cartoon character (2009)\n",
        " - EscherGirls: from Rob Liefeld to J. Scott Campbell (2012)\n",
        " - Fan art/fan gallery (2012)\n",
        " - Fantastic Fashion: Redesigning Iconic Supers (2013)\n",
        " - For Love Or Bromance (2012)\n",
        " - Panelling Comics Seminar (2013)\n",
        " - Story Time 1 (2012)\n",
        " - Superhero Comics: Rebooting and Relaunching the Multiverse(s) (2013)\n",
        " - This moment for women in comics (2012)\n",
        " - Whatever happened to the fourth Wall? (2012)\n",
        " - Women characters in comics (2009)\n",
        "\n",
        "------------------------------\n",
        "###Narelle Harris, Ian   Nichols, Richard  Harland, Sue Isle, Craig  Stephenson, Ian Irvine, Stephen Dedman\n",
        " - Anyone can write a thousand page novel, it's writing short stories that's difficult! (2010)\n",
        " - Avatar -Where do we go from here? (2010)\n",
        " - Book Reading (2010)\n",
        " - Dating the Undead (2010)\n",
        " - Getting Published (2010)\n",
        " - Getting to Know Narelle (2010)\n",
        " - Guest of Honour Reading (2010)\n",
        " - Ian Irvine - Guest of Honour Speech (2010)\n",
        " - Promoting Your Book (2010)\n",
        " - Robin & Sidekicks in comics (2010)\n",
        " - So young and hot! (2010)\n",
        " - Steampunk: The word on everyone's lips (2010)\n",
        " - The art of telling a story in speculative fiction (2010)\n",
        " - World Without End (2010)\n",
        "\n",
        "------------------------------\n",
        "###Bronwyn Cropley, Tim McDougall, Leece Smith\n",
        " - 4 Things to do on Sunday? Games of Doom all day long (2012)\n",
        " - Arkham Horror (2012)\n",
        " - Attack of the Pirates! (2013)\n",
        " - Battle of the High Seas (2012)\n",
        " - Fan-Created Games and Fanmade Adaptions - All Day (2012)\n",
        " - Fun Thursday Gaming - All Evening (2012)\n",
        " - Go Fish - Two player and more early morning card games (2012)\n",
        " - I Love a Battlefield in the Early Morning - Fairy Chess (2012)\n",
        " - Me, Myself and that Random Guy - Geeky Games for Two or More People (2012)\n",
        " - Only You Can Save the Universe! - A Cthulu LARP Event (2012)\n",
        " - Parlour Games (2013)\n",
        " - Shiver Me Timbers - An Sailing Ship Obstacle Course (2012)\n",
        " - Smallworld & Underworld Come and Play - 1pm to 3pm (2012)\n",
        " - Solitare for Two - Ancient Board Games for Two People (2012)\n",
        "\n",
        "------------------------------\n",
        "###Anysia Chung, Paul Kidd, Wing Chung, Kaneda Cruz, Andy Phillips, Bob Litchfield, Stephanie Bateman-Graham\n",
        " - Blade Attraction 4.0 (2009)\n",
        " - Future War - Vision of Neuromancer (2010)\n",
        " - Keeping Safe - Self Defence (2012)\n",
        " - Kiddy Combat (2009)\n",
        " - NERF! (2012)\n",
        " - Photographing the Apocalypse for Posterity - Part 1 (2012)\n",
        " - Photographing the Apocalypse for Posterity - Part 2 (2012)\n",
        " - Rebel Empire (2009)\n",
        " - Rebel Empire Fight Choreography Workshop (2012)\n",
        " - Tattoo You (2009)\n",
        " - The Ultimate Fight (2009)\n",
        "\n",
        "------------------------------\n",
        "###David  Gunn, Helen  Balfour, Colin  Sharpe, Tom  Eithelhuber, Tina  Eitelhuber, Heather  Macgee, Damian  Magee\n",
        " - 2009 in film (2010)\n",
        " - Children's TV Shows: Live Action from the 60s and 70s (2010)\n",
        " - Comics You Should Be Reading (2010)\n",
        " - Exiled to Earth: Dr. Who's 7th Season (2010)\n",
        " - Looking back at classic children's sci-fi & Fantasy Literature (2010)\n",
        " - Looking back at the X-Files (2010)\n",
        " - Lost? The End is Near (2010)\n",
        " - The Future of Television - Does it have a future? (2010)\n",
        " - Top SF&F Movies of the decade (2010)\n",
        " - Video Quiz (2010)\n",
        "\n",
        "------------------------------\n",
        "###Mike O'Brien, Pamela Smith, Rob Masters, Leece, Elaine Walker, Karen Babcock, Terry Chilvers, Greg Tannahill, Colin Sharpe, Paul Kidd, Anneliese Bear, Andy Phillips, John Robertson, Paul Andinach\n",
        " - 10 Games (2009)\n",
        " - Gender Gap in Gaming? (2009)\n",
        " - I'd like that on a mug (2009)\n",
        " - Molecular Gastronomy in the Fan Lounge (2009)\n",
        " - Ready, Steady, Genesplice!: Build a better Unicorn (2009)\n",
        " - The Universe of Liad and the world of Korval (2009)\n",
        " - Ugg-Tect Royale (2014)\n",
        " - Wings of War (2009)\n",
        "\n",
        "------------------------------\n",
        "###Andrew Williams, Kate  Williams, Liz  Grzyb, Paul Talbot\n",
        " - A Physicist's Guide to the Afterlife (2009)\n",
        " - Apollo 11 Turns 40, But Did It Happen At All? (2009)\n",
        " - Dust, frogs, and the Square Kilometre Array - Whats going on now  onsite in the Murchison Region (2010)\n",
        " - Is there anybody out there? (2009)\n",
        " - Project Runway: Swancon (2010)\n",
        " - Scary Kisses Anthology (2010)\n",
        " - Space to Scale! (2012)\n",
        " - Swancon 2011 Homework (2010)\n",
        "\n",
        "------------------------------\n",
        "###Greg Tannahill\n",
        " - Invitation to Game (2009)\n",
        " - Invitation to Game (2009)\n",
        " - Monster Games (2009)\n",
        " - Monster Games (2009)\n",
        " - Monster Games (2009)\n",
        " - Monster Games (2009)\n",
        "\n",
        "------------------------------\n",
        "###Erika Lacey, Jasmin Nguyen, Desiree Heald, Drhoz Heald\n",
        " - Build it With Papercraft (2013)\n",
        " - Fine Fellows of (Spec) Fiction (2009)\n",
        " - Furry Movies and TV That Won't Freak You Out (Much) (2009)\n",
        " - Geek Sing-along (2009)\n",
        " - Geeky Sing-Along (2014)\n",
        " - Swancon Idol (2009)\n",
        "\n",
        "------------------------------\n",
        "###Fe Waters\n",
        " - Aliens and Spaceships and Tardis,' Oh My! (2013)\n",
        " - Clean Up (2013)\n",
        " - Creche Rhymes (2012)\n",
        " - Creche Rhymes (2013)\n",
        " - Dye-ing Eggs (2013)\n",
        " - Easter Baskets (2013)\n",
        "\n",
        "------------------------------\n",
        "###Terry Chilvers\n",
        " - Board Gaming (for Kids!) (2012)\n",
        " - Games for the Family - 10am to 12pm (2012)\n",
        " - Happy Birthday Robot (2012)\n",
        " - Live Massively Multiplayer Text Adventure Game (2012)\n",
        " - Story Time 4 (2012)\n",
        " - The Resistance (2012)\n",
        "\n",
        "------------------------------\n",
        "###Kendra Swaine, Satima Flavell, Alisa Krasnostein\n",
        " - 2008 in Books (2009)\n",
        " - Fairy Tales Today (2012)\n",
        " - Quiet Time 4 (2013)\n",
        " - The Dagger of Dresnia Book Launch (2014)\n",
        " - What happens after I finish the Manuscript? (2012)\n",
        "\n",
        "------------------------------\n",
        "###Drhoz, Desiree  Heald, Drhoz!, Correynn Tan\n",
        " - A Touch of The Strange - Theodore Sturgeon (2010)\n",
        " - Come to Australia, you might accidentally get killed! (2013)\n",
        " - Iron Brain: The Rebirth (2013)\n",
        " - Rats! Foiled Again (2010)\n",
        " - Sing Star Idol (2010)\n",
        "\n",
        "------------------------------\n",
        "###Stephanie Bateman-Graham, Bevan McGuiness\n",
        " - Apocalyptically Bad Science (2012)\n",
        " - Art Show (2009)\n",
        " - Art Show (2009)\n",
        " - Art Show Auction and Breakdown (2009)\n",
        "\n",
        "------------------------------\n",
        "###Denai Edwards, Vanessa Huang, Andy Hahn, Matt Sharpe, John Samuel, Jon Hayward\n",
        " - Anime Character Archetypes and Tropes (2009)\n",
        " - Best and Worst of Anime (2009)\n",
        " - My Favourite Anime (2014)\n",
        " - Trailer Park Anime version (2009)\n",
        "\n",
        "------------------------------\n",
        "###Andrew Williams, Chris Creagh, DC Daines, Wesley Lamont, Rob Masters, Llew Bendsten, Elaine Walker, Sha Sharp\n",
        " - Colonising Mars (2012)\n",
        " - Real-World Based Spaceship design (2012)\n",
        " - Renewable Sustainable Energy (2012)\n",
        " - Science fiction relating to real science (2012)\n",
        "\n",
        "------------------------------\n",
        "###Jack Casey, Anthony Sweet, Bronwyn Cropley, Aranda Morrison, Wesley Lamont, Garth Pendergrast, Richard Kong\n",
        " - \"Design a Game\" Workshop  (2012)\n",
        " - Board Game Design (2012)\n",
        " - Video Games: How the Sausage Gets Made - Part 1 (2012)\n",
        " - Video Games: How the Sausage Gets Made - Part 2 (2012)\n",
        "\n",
        "------------------------------\n",
        "###Emma Hawkes\n",
        " - Fandoms To Which My Child Introduced Me (2013)\n",
        " - Nineteenth Century Fantasy Art Nudes (2013)\n",
        " - The Fantasy Novels of Enid Blyton (2014)\n",
        " - Wand Creations (2012)\n",
        "\n",
        "------------------------------\n",
        "###Pathfinder Society\n",
        " - Pathfinder's Society (2012)\n",
        " - Pathfinder's Society (2012)\n",
        " - Pathfinder's Society (2012)\n",
        " - Pathfinders Society (2012)\n",
        "\n",
        "------------------------------\n",
        "###Damian Magee, Grant Watson, Matt Holmes, Zoe Wadsworth, Travis Johnson, Gail Simone, Chris Gorham\n",
        " - Birds of Prey (2013)\n",
        " - I Am The Night: A History of the Caped Crusader (2009)\n",
        " - Sherlock - Comparing the different versions (2012)\n",
        "\n",
        "------------------------------\n",
        "###Linda Deegan\n",
        " - Art Show Auction (2012)\n",
        " - Art Show Tear-Down & Auction Payment (2012)\n",
        " - Masquerade (2009)\n",
        "\n",
        "------------------------------\n",
        "###Kate Williams, Robert N Stephenson, Sarah Parker, Bec Handcock, Liz Grzyb\n",
        " - Paranormal romances: Vampires, Werewolves and Warlocks, Oh my (2009)\n",
        " - Project Runway (2009)\n",
        " - Shakespeare themes in SF (2009)\n",
        "\n",
        "------------------------------\n",
        "###Sarah  Parker, John  Samuel, Craig  Stephenson\n",
        " - An Introduction to Vlad Taltos (2010)\n",
        " - Anime Archetypes (2010)\n",
        " - Welcome to Your First Con (2010)\n",
        "\n",
        "------------------------------\n",
        "###Scott  Sigler\n",
        " - Guest of Honour Reading (2010)\n",
        " - Scott Sigler - Guest of Honor Speech (2010)\n",
        " - Stephen King Film Adaptations (2010)\n",
        "\n",
        "------------------------------\n",
        "###Coreynn  Tan\n",
        " - Haven't a Thing to Wear (2010)\n",
        " - How did they do that? (2010)\n",
        " - The Iron Brain Competition (2010)\n",
        "\n",
        "------------------------------\n",
        "###Gina  Goddard, Stephanie   Bateman-Graham, Susan  Ackermann\n",
        " - Sue and Gina's Excellent... Adventure (2010)\n",
        " - The Blockbusters of Shame (2010)\n",
        " - What's New and Notable in Child and Young Adult Sci-Fi and Fantasy (2010)\n",
        "\n",
        "------------------------------\n",
        "###Brett Downing, Daniel Harmsworth, Jenna Downing\n",
        " - Arduino U: Programming Tiny Computers (2012)\n",
        " - Grey Goo and Home-made Atomic Bombs: How Hackerspaces will cause the Apocalypse! (2012)\n",
        " - Model Rocketry - Beyond watching it go up (2012)\n",
        "\n",
        "------------------------------\n",
        "###Kaneda Cruz, Lisa Rye, Cathy Rye\n",
        " - Avatar: The Last Airbender - Why was it so successful? (2012)\n",
        " - Lightsabers and Light Twirling - A Demonstration (2012)\n",
        " - Poi Twirling Workshop (2012)\n",
        "\n",
        "------------------------------\n",
        "###Sophie Ambrose, Colin Sharp\n",
        " - Fan art/fan gallery (2012)\n",
        " - Fan art/fan gallery 1 (2013)\n",
        " - Shoujo and Josei - Anime for women (2012)\n",
        "\n",
        "------------------------------\n",
        "###Aeryn Telfer\n",
        " - Book club (2012)\n",
        " - Werewolves for Children (2012)\n",
        " - Werewolves for Children (2013)\n",
        "\n",
        "------------------------------\n",
        "###Dave Cake, Andy Hahn, Samara Morgan\n",
        " - Safe Spaces (2014)\n",
        " - The History Of Ghibli - Take 2 (2014)\n",
        " - The Worst RPGs Of All Time (2014)\n",
        "\n",
        "------------------------------\n",
        "###Greg Tyrie, Wez Lamont\n",
        " - Blocks of Art: Fandom and Lego (2014)\n",
        " - Burning Man and Blazing Swan (2014)\n",
        " - Indie Board Games - Design And Publishing (2014)\n",
        "\n",
        "------------------------------\n",
        "###Theresa Anns, Elaine Kemp, Jaunita Landesse, Kathryn Linge, Alistair McKie, Christopher Phillips, Stephanie Bateman-Graham, Rob Masters, Leece, PRK, Jess Bridges, Trudi Canavan, Terry Chilvers, Richard Morgan, Maia Bobrowicz, Linda Deegan\n",
        " - Closing Ceremony (2009)\n",
        " - Opening Ceremony (2009)\n",
        "\n",
        "------------------------------\n",
        "###Gina Goddard, Ian Nichols, Stephen Griffiths, Emma Hawkes\n",
        " - Banned Books (2009)\n",
        " - The backwards dialogue (2013)\n",
        "\n",
        "------------------------------\n",
        "###Richard Morgan, Stephen Dedman\n",
        " - Guest of Honour Speech - Richard Morgan (2009)\n",
        " - Writing SF - Tips & Techniques (2009)\n",
        "\n",
        "------------------------------\n",
        "###Jenny Blackford, Trudi Canavan\n",
        " - Guest of Honour Speech - Trudi Canavan (2009)\n",
        " - Launch of The Priestess and the Slave (2009)\n",
        "\n",
        "------------------------------\n",
        "###Sarah Xu\n",
        " - Fandom, Boobs, and the Internet: Big sister is watching you (2009)\n",
        " - Strong Women in New Who, the Whedonverse, and SFF (2009)\n",
        "\n",
        "------------------------------\n",
        "###Anna Hepworth, Rohan Wallace, PRK, John Green, Tom Eitelhuber\n",
        " - How to run a Swancon (2012)\n",
        " - Where do Swancons come from? (2009)\n",
        "\n",
        "------------------------------\n",
        "###Theresa Anns, Bevan McGuinness, Cat Sparks, Trudi Canavan, Alisa Krasnostein, Stephen Dedman\n",
        " - Making the grade (2009)\n",
        " - So why the hell do you want to be a writer anyway? (2009)\n",
        "\n",
        "------------------------------\n",
        "###Bevan McGuinness, Cat Sparks, Lara Morgan, Juliet Marillier, Stephen Dedman, Trudi Canavan, Richard Morgan, Jenny Blackford, Paul Kidd, Dave Luckett, Russell B Farr\n",
        " - Book Signings II (2009)\n",
        " - Writing Fantasy - Tips & Techniques (2009)\n",
        "\n",
        "------------------------------\n",
        "###Brendan Ragan\n",
        " - Oculus Rift Horror Games (2014)\n",
        " - Rock Band (2009)\n",
        "\n",
        "------------------------------\n",
        "###Swancon Committee\n",
        " - Closing Ceremony (2010)\n",
        " - Opening Ceremony (2010)\n",
        "\n",
        "------------------------------\n",
        "###Sarah, Mel\n",
        " - LARP Makeup Presentation (2010)\n",
        " - LARP Presentation - Introduction (2010)\n",
        "\n",
        "------------------------------\n",
        "###Anna  Hepworth, Ju  Land\u00c3\u00a9esse\n",
        " - Awards Ceremony (2010)\n",
        " - Dark Fantasy (2010)\n",
        "\n",
        "------------------------------\n",
        "###Ju  Land\u00c3\u00a9esse, Sarah  Parker, Samara  Morgan, Juliet  Marillier, Elaine  Kemp\n",
        " - SFF and Romance (2010)\n",
        " - Safe Spaces (2010)\n",
        "\n",
        "------------------------------\n",
        "###Cathy  Cupitt, Emily  Turner\n",
        " - Andy Warhol and Fan Re-mixing (2010)\n",
        " - Torchwood: Exposed! (2010)\n",
        "\n",
        "------------------------------\n",
        "###Trevor  Phillips\n",
        " - Rock Star (2010)\n",
        " - Saints and Griefers: Gamers Psychology (2010)\n",
        "\n",
        "------------------------------\n",
        "###Brandon Sanderson, Chris Creagh, Kitty Hemsley, Kathleen Griffiths, Marianne De Pierres, PRK, Brendan Ragan\n",
        " - Closing Ceremony (2012)\n",
        " - Opening Ceremony (2012)\n",
        "\n",
        "------------------------------\n",
        "###Anthony Sweet, Ellen Jurik\n",
        " - Halfling Heist - The Second Opportunity - Handwritten Games Sneak Preview (2012)\n",
        " - Writing content for Video Games (2012)\n",
        "\n",
        "------------------------------\n",
        "###Skot McDonald, Dave Cake\n",
        " - Mad Science vs. Mystic Powers (2012)\n",
        " - The Great Steampunk Affaire! (2012)\n",
        "\n",
        "------------------------------\n",
        "###DC Daines\n",
        " - \"The Star Crystal\" Book Launch (2012)\n",
        " - Alternate Realities - Are we running to or from? (2012)\n",
        "\n",
        "------------------------------\n",
        "###Adam Bodestyne, Matt Holmes, Stephen Dedman\n",
        " - A Song of Ice and Fire (2012)\n",
        " - Technology - it's all about porn! (2012)\n",
        "\n",
        "------------------------------\n",
        "###Damian Magee, Grant Watson, Stephen Griffiths, Andrew Sharp, Stephen Dedman\n",
        " - A Horror Cinema Canon? (2013)\n",
        " - Apocalyptic Portrayals in Screen media (2012)\n",
        "\n",
        "------------------------------\n",
        "###Coreynn Tan, DC Daines, Kendra Swaine, Sarah Akers\n",
        " - Post-Apocalyptic Fashion (2012)\n",
        " - Steampunk Costuming (2012)\n",
        "\n",
        "------------------------------\n",
        "###Kris Bather, Kitty Hemsley, Zoe Wadsworth, Amy Hightower, Chris Gorham\n",
        " - Super Mega Comics Podcast (2012)\n",
        " - The DC Apocalypse: How did that go for them? (2012)\n",
        "\n",
        "------------------------------\n",
        "###Rose Goodman, Catrin Stone\n",
        " - Emblazoning your coat of arms (2012)\n",
        " - Story Time 3 (2012)\n",
        "\n",
        "------------------------------\n",
        "###Tim McDougall\n",
        " - \"Going Cardboard\" Screening (2012)\n",
        " - Kickstarting Games (2012)\n",
        "\n",
        "------------------------------\n",
        "###Rachel Turner\n",
        " - Emblazoning your coat of arms (2013)\n",
        " - Story Time 6 (2012)\n",
        "\n",
        "------------------------------\n",
        "###Adam McCaw\n",
        " - Plush Toy Wars (2013)\n",
        " - Pokemon TCG tournament (2012)\n",
        "\n",
        "------------------------------\n",
        "###Missy Garrahy\n",
        " - Fan art/fan gallery 3 (2013)\n",
        " - Quiet Time 1 (2013)\n",
        "\n",
        "------------------------------\n",
        "###Sue Ackermann\n",
        " - Drama Games (2013)\n",
        " - Quiet Time 2 (2013)\n",
        "\n",
        "------------------------------\n",
        "###Wuffie, Heather Magee\n",
        " - Art in Non-Traditional Media (2014)\n",
        " - Fan art/fan gallery 2 (2013)\n",
        "\n",
        "------------------------------\n",
        "###Cathy Cupitt, Sven Lie, Maia Bobrowicz, PRK, Sarah McFarlane\n",
        " - Person of Interest (2014)\n",
        " - Teen Wolf: Jumped the Shark or Still Toothy? (2014)\n",
        "\n",
        "------------------------------\n",
        "###Alexis Hemsley, Cathy Cupitt, Kitty Hemsley, Jack Bridges\n",
        " - Gender ambiguity in pop-media (2014)\n",
        " - Happy Queer SF (2014)\n",
        "\n",
        "------------------------------\n",
        "###Sally Beasley\n",
        " - Queer Women In Speculative Fiction (2014)\n",
        " - Sally Beasley Guest of Honour Speech (2014)\n",
        "\n",
        "------------------------------\n",
        "###Kat Griffiths, Matt Holmes, Jonathan Durnford, Sarah Parker, Heather Magee\n",
        " - Queer-baiting: Genuine social justice issue or just fan service? (2014)\n",
        " - Sex, Violence, And Torture \u2013 Unpacking the violent and sexual imagery in visual fantasy (2014)\n",
        "\n",
        "------------------------------\n",
        "###Margaret Dunlop, Anna Hepworth, Art Diggle\n",
        " - Choose your own apocalypse - how our society might collapse (2009)\n",
        "\n",
        "------------------------------\n",
        "###Theresa Anns, John Parker, Rob Masters\n",
        " - Computers in SF (2009)\n",
        "\n",
        "------------------------------\n",
        "###Bill\n",
        " - Killer Game Kick-off (2009)\n",
        "\n",
        "------------------------------\n",
        "###Graeme Watson, Sarah Xu, Tom Eitelhuber\n",
        " - Lost (2009)\n",
        "\n",
        "------------------------------\n",
        "###Sarah Parker, Danny Oz, Sandra Norman, Sarah Xu\n",
        " - Safe Spaces at Cons (2009)\n",
        "\n",
        "------------------------------\n",
        "###Alice Pullin\n",
        " - Accounts and Reflections: Literature on Neil Gaiman and his work (2009)\n",
        "\n",
        "------------------------------\n",
        "###Colin Sharpe, Vanessa Huang, Sophie Ambrose, John Samuel\n",
        " - Anime for casual viewers (2009)\n",
        "\n",
        "------------------------------\n",
        "###Elaine Kemp, Grant Watson, Calum Watson, Linda Deegan, Craig Greenbank, John Robertson, Davina Watson\n",
        " - Auction (2009)\n",
        "\n",
        "------------------------------\n",
        "###Bevan McGuinness, K. A. Bedford, Shane Jiraiya Cummings, Pete Kempshall, Trudi Canavan, Sonia Marcon, Richard Morgan, Paul Kidd, Laney Cairo, Russell B Farr, Martin Livings\n",
        " - Book Signings I (2009)\n",
        "\n",
        "------------------------------\n",
        "###John Robertson\n",
        " - Breakfast with John Robertson (2009)\n",
        "\n",
        "------------------------------\n",
        "###Cathy Cupitt, Maia Bobrowicz, David Cake, Sarah Xu\n",
        " - Frontiers, Commons and Copyright: Creativity in the Internet Age (2009)\n",
        "\n",
        "------------------------------\n",
        "###Greg Tannahill, Paul Turner, Mike Browner, Chris Hayward, John Robertson, Jon Hayward\n",
        " - Grass-Cast Gaming Podcast (2009)\n",
        "\n",
        "------------------------------\n",
        "###Emily Smith, Colin Sharpe, Andy Phillips, Jon Hayward\n",
        " - How to create an online comic (2009)\n",
        "\n",
        "------------------------------\n",
        "###Margaret Dunlop, Alastair Irvine, Mel Kosick-McCaw\n",
        " - Humour in Speculative Fiction (2009)\n",
        "\n",
        "------------------------------\n",
        "###Bevan McGuinness, David Cake, Trudi Canavan, Satima Flavell, Kathryn Hemsley\n",
        " - Religion in Fantasy (2009)\n",
        "\n",
        "------------------------------\n",
        "###Graeme Watson, Stephen Griffiths, Jenny Owen\n",
        " - TV Pilots (2009)\n",
        "\n",
        "------------------------------\n",
        "###Karen Babcock, Colin Sharpe, Robert N Stephenson\n",
        " - Vanity Press (2009)\n",
        "\n",
        "------------------------------\n",
        "###Heidi Kneile\n",
        " - Web pilots (2009)\n",
        "\n",
        "------------------------------\n",
        "###Sue Isle, Shane Jiraiya Cummings, Martin Livings, Stephen Dedman\n",
        " - Writing Horror - Tips & Techniques (2009)\n",
        "\n",
        "------------------------------\n",
        "###Tina Lorenz, Jaunita Landesse, Tom Eitelhuber\n",
        " - 2008 in Film (2009)\n",
        "\n",
        "------------------------------\n",
        "###Karen Babcock, Jenny Blackford, Robert N Stephenson, Cat Sparks, Russell B Farr\n",
        " - Be Kind to Your Editor (2009)\n",
        "\n",
        "------------------------------\n",
        "###Theresa Anns, Sue Isle, Leece\n",
        " - Childhood books you still enjoy (2009)\n",
        "\n",
        "------------------------------\n",
        "###Fern Clarke, Elaine Kemp, Jess Bridges\n",
        " - How to write and/or beta fanfiction (2009)\n",
        "\n",
        "------------------------------\n",
        "###Jon Hayward, Shane McCarthy, Marcus Good\n",
        " - More Than Meets the Eye - The Golden Age of the Transformers (2009)\n",
        "\n",
        "------------------------------\n",
        "###Theresa Anns, Margaret Dunlop, Jaunita Landesse, Chris Creagh, Linda Deegan, John Robertson, Davina Watson, Doug Burbridge, Tom Eitelhuber\n",
        " - Awards Ceremony (2009)\n",
        "\n",
        "------------------------------\n",
        "###Adam Bodestyne, Onelia Ward, Tom Eitelhuber\n",
        " - Changing the Heroes (2009)\n",
        "\n",
        "------------------------------\n",
        "###Colin Sharpe, Andy Hahn, Shasta Calvo\n",
        " - Hayao Miyazaki (2009)\n",
        "\n",
        "------------------------------\n",
        "###Shasta Calvo\n",
        " - Hayao Miyazaki Screening - Howl's Moving Castle (2009)\n",
        "\n",
        "------------------------------\n",
        "###Travis Johnson, Michael Lee\n",
        " - Holy Respectability, Batman! (2009)\n",
        "\n",
        "------------------------------\n",
        "###Kate Williams, Stephen Griffiths, Nick Evans\n",
        " - Left Behind the Bush (2009)\n",
        "\n",
        "------------------------------\n",
        "###Emma Hawkes, David Medlen, Sarah Xu\n",
        " - Norma K Hemming Award (2009)\n",
        "\n",
        "------------------------------\n",
        "###Jenny Blackford, Stephanie Bateman-Graham, Emma Hawkes, Drhoz Heald\n",
        " - Plagues: Culture Versus Culture (2009)\n",
        "\n",
        "------------------------------\n",
        "###Darren Jorgenson\n",
        " - Science Fiction and the Sublime (2009)\n",
        "\n",
        "------------------------------\n",
        "###Jay Watson, Todd Rowlands, John Green\n",
        " - Swancon 2010 Launch (2009)\n",
        "\n",
        "------------------------------\n",
        "###Tess Williams\n",
        " - The Aliens are among us: The science fiction in John Lilly's science (2009)\n",
        "\n",
        "------------------------------\n",
        "###Professor Rob Stuart\n",
        " - Tolkien Criticism:  Some Critical Comments (2009)\n",
        "\n",
        "------------------------------\n",
        "###Damian Magee, Paul Kidd, John Robertson\n",
        " - Celebrating bad movies (2009)\n",
        "\n",
        "------------------------------\n",
        "###Stephen Wroth\n",
        " - Homework for Swancon 2010 (2009)\n",
        "\n",
        "------------------------------\n",
        "###Cathy Gilbert\n",
        " - Writing in a pinch (2009)\n",
        "\n",
        "------------------------------\n",
        "###Scott  Sigler, Drhoz, Coreynn  Tan\n",
        " - Parasites: What are you Carrying? (2010)\n",
        "\n",
        "------------------------------\n",
        "###Emma  Hawkes, Karen  Babcock\n",
        " - Aussiecon Promotion (2010)\n",
        "\n",
        "------------------------------\n",
        "###David  Medlen\n",
        " - The Fleischer Brothers 'Superman' (2010)\n",
        "\n",
        "------------------------------\n",
        "###Alisa  Krasnostein, Amanda  Rainey\n",
        " - Perfectly Packaged - Designing Science Fiction (2010)\n",
        "\n",
        "------------------------------\n",
        "###Sophie  MacFarland\n",
        " - Disability in Science Fiction (2010)\n",
        "\n",
        "------------------------------\n",
        "###Helen  Creagh, Chris  Creagh, Anna  Hepworth\n",
        " - Auction (2010)\n",
        "\n",
        "------------------------------\n",
        "###Sonia  Hebig, Sarah  Parker, Richard  Harland, Carol  Ryles, Stephen Dedman\n",
        " - Making the Magic in Fantasy Novels work (2010)\n",
        "\n",
        "------------------------------\n",
        "###Brendan  Ragan, David  Cake\n",
        " - Sandbox Vs Theme Park: MMOs Types (2010)\n",
        "\n",
        "------------------------------\n",
        "###Nick   Evans, Robert  Wallace\n",
        " - No you can't have a f... flying car; You couldn't get it to the market and it wouldn't sell anyway! (2010)\n",
        "\n",
        "------------------------------\n",
        "###Narelle Harris, Aaron  Creaser, Micheal  Cogan, Damian  Magee\n",
        " - The New Who (2010)\n",
        "\n",
        "------------------------------\n",
        "###Gynaecon Collective\n",
        " - Gynaecon 10th Anniversary (2010)\n",
        "\n",
        "------------------------------\n",
        "###Nancy  Lorenz\n",
        " - Xena - A Retrospective View (2010)\n",
        "\n",
        "------------------------------\n",
        "###Scott  Sigler, Wing Chung, Kaneda   Cruz, Stephen Dedman\n",
        " - Rumble in the Prose (2010)\n",
        "\n",
        "------------------------------\n",
        "###Andrew Williams, John  Parker, Paul  Talbot\n",
        " - NASA's Budget Proposal (2010)\n",
        "\n",
        "------------------------------\n",
        "###Satima  Flavell\n",
        " - Yoga (2010)\n",
        "\n",
        "------------------------------\n",
        "###John  Parker, Samara  Morgan\n",
        " - Girl Genius (2010)\n",
        "\n",
        "------------------------------\n",
        "###Gina  Goddard, Narelle Harris, Anna  Hepworth\n",
        " - Editing... How it Works (2010)\n",
        "\n",
        "------------------------------\n",
        "###Andrew  Phillips, Colin  Sharpe\n",
        " - Astroboy: New Century, New Visions (2010)\n",
        "\n",
        "------------------------------\n",
        "###Desiree  Heald, Owen  Wylde\n",
        " - Geek Away (2010)\n",
        "\n",
        "------------------------------\n",
        "###Ross   Lionel\n",
        " - The Best and Worst of Anime (2010)\n",
        "\n",
        "------------------------------\n",
        "###Desiree  Heald, Anna  Hepworth\n",
        " - Fiction of Anthropomorphic Animals (2010)\n",
        "\n",
        "------------------------------\n",
        "###Peter   Kelly\n",
        " - Inside the Sci fi B-Movie (2010)\n",
        "\n",
        "------------------------------\n",
        "###Kaneda   Cruz\n",
        " - Rebel Empire Lightsaber Workshop: Stage Combat with a Twist (2010)\n",
        "\n",
        "------------------------------\n",
        "###Gina  Goddard, John  Samuel, Emma  Hawkes\n",
        " - How About Heinlein? (2010)\n",
        "\n",
        "------------------------------\n",
        "###Swancon 2011 Committee\n",
        " - Swancon 2011 Launch (2010)\n",
        "\n",
        "------------------------------\n",
        "###Helen  Balfour, Desiree  Heald\n",
        " - Lets Go Fangirling! (2010)\n",
        "\n",
        "------------------------------\n",
        "###Stephanie   Bateman-Graham, Matthew Bateman-Graham\n",
        " - Star Trek: Chat Time (2010)\n",
        "\n",
        "------------------------------\n",
        "###Ryan  Burley, Micheal  Cogan\n",
        " - American Spaceflight: Where to Next? (2010)\n",
        "\n",
        "------------------------------\n",
        "###Scott  Sigler, Stephanie   Bateman-Graham, Carol  Ryles, Stephen Dedman\n",
        " - Making Science Work in Your SF Novel (2010)\n",
        "\n",
        "------------------------------\n",
        "###Gina  Goddard, Sarah  Parker, Helen   Merrick\n",
        " - Words of Women (2010)\n",
        "\n",
        "------------------------------\n",
        "###Graeme  Watson, Jenny  Owens\n",
        " - Whats on Television This Year? (2010)\n",
        "\n",
        "------------------------------\n",
        "###John   Green, Richard  Harland, Linda  Deegan\n",
        " - 10 Reasons we should legalise Human Cloning (2010)\n",
        "\n",
        "------------------------------\n",
        "###Brandon Sanderson, Adam Bodestyne, PRK\n",
        " - The Wheel of Time (2012)\n",
        "\n",
        "------------------------------\n",
        "###Lindsay Fleay, Andrew Sharp\n",
        " - Beneath the Iron Lady (2012)\n",
        "\n",
        "------------------------------\n",
        "###Crime Scene Committee\n",
        " - The science of Crime TV (2012)\n",
        "\n",
        "------------------------------\n",
        "###Zoe Wadsworth, Sarah Parker, Ian Nicholls\n",
        " - Anne McCaffrey: An Appreciation (2012)\n",
        "\n",
        "------------------------------\n",
        "###Wesley Lamont\n",
        " - Learn to Play Magic: The Gathering (2012)\n",
        "\n",
        "------------------------------\n",
        "###Dave Cake, Stevo\n",
        " - Eschatology and Apocalypticism across time and space (2012)\n",
        "\n",
        "------------------------------\n",
        "###Samara Morgan, Adam McCaw, Leah Crichton\n",
        " - My Little Pony: from the 80s to Today (2012)\n",
        "\n",
        "------------------------------\n",
        "###Bronwyn Cropley, John Parker, Andrew Sharp\n",
        " - Welcome to the Laundry: The Horror/Spy works of Charles Stross (2012)\n",
        "\n",
        "------------------------------\n",
        "###Andrew Hahn, Tim Colwill, Stephen Griffiths, Amy Hightower, Jess Colwill\n",
        " - Mass Effect 3, What's with That Ending? (2012)\n",
        "\n",
        "------------------------------\n",
        "###Ju Land\u00e9esse, Tori K, Kendra Swaine\n",
        " - Lost Girl: Sexy without being Sexist? (2012)\n",
        "\n",
        "------------------------------\n",
        "###Sarah Parker, Shay Telfer, Samara Morgan\n",
        " - Welcome to Swancon - Newbie Panel (2012)\n",
        "\n",
        "------------------------------\n",
        "###Elaine Kemp, Satima Flavell, Carol Ryles\n",
        " - Rewriting the Manuscript (2012)\n",
        "\n",
        "------------------------------\n",
        "###Cathy Cupitt, Amy Hightower, Dave Cake\n",
        " - Australian Censorship - Broken Beyond Repair? (2012)\n",
        "\n",
        "------------------------------\n",
        "###Peter Hannay, Wing Chung, Dave Cake\n",
        " - The Privacy Apocalypse? (2012)\n",
        "\n",
        "------------------------------\n",
        "###David Gunn, Mel Kosick-McCaw, Llew Bendsten\n",
        " - Red Dwarf: Did something go wrong? (2012)\n",
        "\n",
        "------------------------------\n",
        "###Amber Boyatzis, Zoe Wadsworth, Andrew Sharp\n",
        " - 2013 Homework (2012)\n",
        "\n",
        "------------------------------\n",
        "###Gina Goddard, Stefen Brazulaitis, Kaneda Cruz, Ian Nicholls, Sarah Akers\n",
        " - Star Trek vs. Star Wars - The Ultimate Debate (2012)\n",
        "\n",
        "------------------------------\n",
        "###Brett Downing, Cathy Rye\n",
        " - Neat things you can do with tiny (and cheap!) computers (2012)\n",
        "\n",
        "------------------------------\n",
        "###Elaine Kemp, Ian Nicholls, Daniel Harmsworth, Bevan McGuiness\n",
        " - Future of Learning (2012)\n",
        "\n",
        "------------------------------\n",
        "###Cass Edwards, Chris Creagh, Daniel Harmsworth\n",
        " - Apocalypse Now: Has the apocalypse begun? (2012)\n",
        "\n",
        "------------------------------\n",
        "###Peter Hannay, Alex Dawson\n",
        " - The end of General Purpose Computing (2012)\n",
        "\n",
        "------------------------------\n",
        "###Terri Sellen, Daniel Harmsworth\n",
        " - Preparing for the Apocalypse (2012)\n",
        "\n",
        "------------------------------\n",
        "###Paul Kidd, Amanda Rainey, Alisa Krasnostein\n",
        " - From manuscript to Ebook (2012)\n",
        "\n",
        "------------------------------\n",
        "###Ian Lackie, Darren Smith\n",
        " - Firefly Retrospective (2012)\n",
        "\n",
        "------------------------------\n",
        "###MSquared, David Kitson\n",
        " - What's On In Perth (2012)\n",
        "\n",
        "------------------------------\n",
        "###Alex Dawson, Daniel Harmsworth, Trent Lloyd\n",
        " - Zombie Bus (2012)\n",
        "\n",
        "------------------------------\n",
        "###Gina Goddard, Anna Hepworth, Damian Magee, Sandra Norman\n",
        " - Spec-Fic For Small Ones (2012)\n",
        "\n",
        "------------------------------\n",
        "###Nancy Lorenz, Kathleen Griffiths, Heather Magee\n",
        " - Dr Who - Are You New? (2012)\n",
        "\n",
        "------------------------------\n",
        "###Marta Sandberg\n",
        " - Skipping the Apocalypse: Cryonics (2012)\n",
        "\n",
        "------------------------------\n",
        "###Isobel Cox, Samara Morgan\n",
        " - Stargate Retrospective (2012)\n",
        "\n",
        "------------------------------\n",
        "###Doug Burbidge, Tom Eitelhuber, Elaine Kemp, Terri Sellen, Sarah Parker, Amanda Rainey, Rohan Wallace, PRK, Dave Cake\n",
        " - WASFF AGM (2012)\n",
        "\n",
        "------------------------------\n",
        "###Damian Magee, Peter Kelly, Tom Eitelhuber\n",
        " - Comics vs. Hollywood (2012)\n",
        "\n",
        "------------------------------\n",
        "###Lindsay Fleay, Damian Magee, Stephen Moore\n",
        " - Animation: It's all the same now (2012)\n",
        "\n",
        "------------------------------\n",
        "###Marianne De Pierres, Russel B Farr, Liz Grzyb\n",
        " - Damnation & Dames Launch (2012)\n",
        "\n",
        "------------------------------\n",
        "###Jenna Downing\n",
        " - Fan art/fan gallery (2012)\n",
        "\n",
        "------------------------------\n",
        "###Gynaecon\n",
        " - Dinosaur Stomp (2012)\n",
        "\n",
        "------------------------------\n",
        "###Mel Kosick-McCaw\n",
        " - Story Time 5 (2012)\n",
        "\n",
        "------------------------------\n",
        "###Tom Eitelhuber, Amber Boyatzis, Andrew Hahn, Stephen Griffiths, Zoe Wadsworth, Chris Gorham, Andrew Sharp, Chris Coman, Tina Eitelhuber\n",
        " - Swancon 2013 Launch (2012)\n",
        "\n",
        "------------------------------\n",
        "###Ju Land\u00e9esse\n",
        " - Story Time 2 (2012)\n",
        "\n",
        "------------------------------\n",
        "###John Parker, Sarah Parker, Dave Cake\n",
        " - Fan Funds and You! (2012)\n",
        "\n",
        "------------------------------\n",
        "###Paul Simmons\n",
        " - Antaire: Dungeons (2012)\n",
        "\n",
        "------------------------------\n",
        "###Keira McKenzie, Dave Cake\n",
        " - When The Stars Are Right (2012)\n",
        "\n",
        "------------------------------\n",
        "###Johan\n",
        " - Anime card games (2012)\n",
        "\n",
        "------------------------------\n",
        "###Juliet Marillier, Ian Nichols, Lucy Sussex, Mihaela Marija Perkovic, Charles Stross, PRK, Stephen Dedman\n",
        " - SF writing, critical praise and winning awards (2013)\n",
        "\n",
        "------------------------------\n",
        "###Sam Bowden, Tim Pullen, Andrew Leitch\n",
        " - Introduction to the Perth LARP scene (2013)\n",
        "\n",
        "------------------------------\n",
        "###Gina Goddard, Chris Creagh, Dave Cake\n",
        " - Educational futurism (2013)\n",
        "\n",
        "------------------------------\n",
        "###John Parker, Jennifer Gladwell, , Helen Duffill\n",
        " - Lost Girl - a discussion (2013)\n",
        "\n",
        "------------------------------\n",
        "###Damian Magee, Matt Holmes, John Birmingham, Michael Cogan\n",
        " - Bond after Skyfall (2013)\n",
        "\n",
        "------------------------------\n",
        "###Andrew Hahn, Colm Kiely, Andrew Leitch\n",
        " - Can you swing a halberd - realism in gaming (2013)\n",
        "\n",
        "------------------------------\n",
        "###Alicia Smith, Danica Zuks, Tim McDougall, Rob Masters\n",
        " - Analog gaming in a digital world (2013)\n",
        "\n",
        "------------------------------\n",
        "###Jeremy Byrne, Lee Battersby, Sophie Ambrose\n",
        " - interactive fiction and storytelling in games and books (2013)\n",
        "\n",
        "------------------------------\n",
        "###Mirai Raine, Sarah Akers\n",
        " - Cosplay - sourcing your next outfit (2013)\n",
        "\n",
        "------------------------------\n",
        "###Candice Schilder, Aaron Creaser, Damian Magee, Nancy Lorenz, Kathleen Griffiths, Helen Duffill, Samara Morgan\n",
        " - Doctor Who, companion(ship) and the new dynamic (2013)\n",
        "\n",
        "------------------------------\n",
        "###Dave Cake, Isobel, Frames, Joshua Hemsley, Kitty Byrne\n",
        " - Young Adult fiction around the world (2013)\n",
        "\n",
        "------------------------------\n",
        "###Candice Schilder, Damian Magee, Andrew Hahn\n",
        " - Anime Long-form - negotiating the never-ending battles (2013)\n",
        "\n",
        "------------------------------\n",
        "###Emily Smith, John Parker, Andrew Leitch, Drhoz!, Andrew Sharp\n",
        " - 2000 AD (2013)\n",
        "\n",
        "------------------------------\n",
        "###Elaine Kemp, Gail Simone, Kitty Byrne\n",
        " - LGBTI representation in genre fiction (2013)\n",
        "\n",
        "------------------------------\n",
        "###Charles Stross, Dave Cake\n",
        " - H.P. Lovecraft: using the Cthulhu Mythos in fiction (2013)\n",
        "\n",
        "------------------------------\n",
        "###Kathryn Yeates\n",
        " - Alien Puppet (2013)\n",
        "\n",
        "------------------------------\n",
        "###Julia Watts\n",
        " - Junior Presenters (2013)\n",
        "\n",
        "------------------------------\n",
        "###Kylie Ding\n",
        " - Quiet Time 6 (2013)\n",
        "\n",
        "------------------------------\n",
        "###Paul Kidd, Drhoz!, Terry Chilvers\n",
        " - Dead Gamers Society (2013)\n",
        "\n",
        "------------------------------\n",
        "###Mihaela Marija Perkovic\n",
        " - European SF Literature and European Fandom \u2013 GUFF presentation (2013)\n",
        "\n",
        "------------------------------\n",
        "###JG Dalziel, Damian Kneale, John Birmingham, Rob Masters\n",
        " - Future Fortress Australia (2013)\n",
        "\n",
        "------------------------------\n",
        "###Andrew Smith\n",
        " - Discovering story games (2013)\n",
        "\n",
        "------------------------------\n",
        "###Jake Schapper, Paul Cozens\n",
        " - Visions of Political Control Through Environmental Design (2013)\n",
        "\n",
        "------------------------------\n",
        "###Kylie Ding, Mihaela Marija Perkovic, Dave Cake\n",
        " - Fan Funds (2013)\n",
        "\n",
        "------------------------------\n",
        "###Alexis Hemsley, Sophie McFarland, Paul Wright, Cathy Rye\n",
        " - Homestuck: The Phenomenon (2014)\n",
        "\n",
        "------------------------------\n",
        "###John Parker, Shay Telfer, Bec Handcock\n",
        " - Good Eats: The Geekiest Cooking Show On Earth (2014)\n",
        "\n",
        "------------------------------\n",
        "###Kat Griffiths, Belinda Forbes, David Gunn\n",
        " - The Good Die Young:Short Lived Series (2014)\n",
        "\n",
        "------------------------------\n",
        "###Wendy White, Paul Chamberlain, Lisa Rye, Brendan Ragan\n",
        " - Where All the Cool Kids Are: On the Rise of Indie Videogaming (2014)\n",
        "\n",
        "------------------------------\n",
        "###Kitty Hemsley, Sarah McFarlane\n",
        " - Genre Themes in Non Genre Shows (2014)\n",
        "\n",
        "------------------------------\n",
        "###Denai Edwards, Ruth Turner, Katherine McFarlane\n",
        " - Fangirling About Non-Genre Shows (2014)\n",
        "\n",
        "------------------------------\n",
        "###Doug Burbidge, Dave Luckett, Satima Flavell, Jim Butcher, Anne Bishop\n",
        " - Writers Workshop: Worldbuilding (2014)\n",
        "\n",
        "------------------------------\n",
        "###Katherine McFarlane, Wuffie, Krisjan Lie, Elaine Walker, Stephen Dedman\n",
        " - Guilty Pleasures: Movies and TV that we love to watch but hate to admit to (2014)\n",
        "\n",
        "------------------------------\n",
        "###Dave Luckett, Glenda Larke, Bronwyn Cropely, Stephen Dedman\n",
        " - Who Would Live There?: The Reality of Fantasy / SF worlds (2014)\n",
        "\n",
        "------------------------------\n",
        "###Jonathan Durnford, Glenda Larke, PRK, Sally Beasley\n",
        " - Glorification of Misery (2014)\n",
        "\n",
        "------------------------------\n",
        "###Karina Coldrick, Anna Hepworth, Chris Creagh, Bec Handcock\n",
        " - SCIENCE! The Fantasy vs the Reality (2014)\n",
        "\n",
        "------------------------------\n",
        "###2015 Committee, 2014 Committee\n",
        " - 2014 Debrief (2014)\n",
        "\n",
        "------------------------------\n",
        "###Andy Hahn, Hope Corrigan, Helen Creagh, Brendan Ragan\n",
        " - Would you kindly \u2013 Tearing through the Bioshock Trilogy (2014)\n",
        "\n",
        "------------------------------\n",
        "###Ari of XXP, Jetha Chan, Hope Corrigan, Brendan Ragan\n",
        " - Steaming X-Box 4s \u2013 Rifting Through Modern Gaming (2014)\n",
        "\n",
        "------------------------------\n",
        "###Sarah McFarlane, Ian Nichols, Andy Hahn, Satima Flavell, Stephen Dedman\n",
        " - Shakespeare Retold \u2013 The Good, The Bad, And The Unexpected.  (2014)\n",
        "\n",
        "------------------------------\n",
        "###Belinda Forbes, Matt Holmes, Eva Maria\n",
        " - Winter Is Still Coming: So here we are, Season 3 (2014)\n",
        "\n",
        "------------------------------\n",
        "###Dave Luckett, Cat Sparks, Satima Flavell, Andrew Harvey\n",
        " - How To Piss Off A Publisher (2014)\n",
        "\n",
        "------------------------------\n",
        "###Sarah Parker, Jack Bridges, Stephen Dedman\n",
        " - Editing Erotica, Publishing Porn (2014)\n",
        "\n",
        "------------------------------\n",
        "###Chris Courtis, Paul Chamberlain, PRK\n",
        " - The Future Internet \u2013 More Than Just Cat Pics (2014)\n",
        "\n",
        "------------------------------\n",
        "###Ian Nichols, PRK, Dave Cake\n",
        " - Who's Going To London?: Worldcon in 2014 (2014)\n",
        "\n",
        "------------------------------\n",
        "###Jarrad Hall\n",
        " - Diseases and Microbiology (2014)\n",
        "\n",
        "------------------------------\n",
        "###Daniel Midgley\n",
        " - Conlangs: The Languages of Fictional Worlds (2014)\n",
        "\n",
        "------------------------------\n",
        "###Karina Coldrick\n",
        " - Dragons and Quantum Foam: Fantasy And Sci-Fi Elements of Dianna Wynne Jones (2014)\n",
        "\n",
        "------------------------------\n",
        "###Kimberley Larking, Shasta Calvo, Bec Handcock, Kylie Ding\n",
        " - Dianna Wynne Jones: An Appreciation (2014)\n",
        "\n",
        "------------------------------\n",
        "###Nancy Lorenz, Drhoz, Desiree Heald\n",
        " - I Liked Your Old Battlestar Better Than Your New Battlestar: Comparing the current wave of remakes to the originals (2014)\n",
        "\n",
        "------------------------------\n",
        "###Gina Goddard, Susanne Ackerman, Satima Flavell, Stephen Dedman\n",
        " - What My Library Meant To Me (2014)\n",
        "\n",
        "------------------------------\n",
        "###Kat Griffiths, Kitty Hemsley\n",
        " - Bountiful Beefcake - The Return (2014)\n",
        "\n",
        "------------------------------\n",
        "###Susanne Ackerman, Damian Magee, Kitty Hemsley, Andy Hahn, Sarah Parker, Tim McDougall, Heather Magee, PRK, Elaine Walker, Bronwyn Cropely\n",
        " - Moderating The Moderators (2014)\n",
        "\n",
        "------------------------------\n",
        "###Gladys Spume, Matt Holmes, Jonathan Durnford, Elaine Walker\n",
        " - Sexuality, Politics and Religion (2014)\n",
        "\n",
        "------------------------------\n",
        "###Kitty Hemsley, Matt Holmes, Krisjan Lie\n",
        " - Professional AUs: Reimagining Stories In Different Settings (2014)\n",
        "\n",
        "------------------------------\n",
        "###Amanda Bridgeman, Karina Coldrick, Sorsha Roberts, Sally Beasley\n",
        " - She-Roes and Heroines: Our Favourite Kick-Arse Women (2014)\n",
        "\n",
        "------------------------------\n",
        "###Margaret Dunlop\n",
        " - Cards Against Humanity (2014)\n",
        "\n",
        "------------------------------\n",
        "###Damian Magee, Matt Holmes, David Gunn, Sarah McFarlane\n",
        " - Lost In Translation: US Adaptions of UK and Australian Television (2014)\n",
        "\n",
        "------------------------------\n",
        "###Matt Holmes, Matt Lindus, Chris Coman\n",
        " - Magician to Magician's End (2014)\n",
        "\n",
        "------------------------------\n",
        "###Ann Poore\n",
        " - Pre-Awards Filk Presentation (2014)\n",
        "\n",
        "------------------------------\n",
        "###Ian Nichols, Damian Magee, Sally Beasley\n",
        " - The History of WA Fandom (2014)\n",
        "\n",
        "------------------------------\n",
        "###Jim Butcher\n",
        " - It's Earth, Jim, But Not As We Know It: Creating Alternate Earths (2014)\n",
        "\n",
        "------------------------------\n",
        "###Andreas Piechulik, Anthony Ciccotosto, Marcelle Weber, Sarah Harris, David Partridge, Jeff Watkins\n",
        " - The Silent City - An Australian Film Noir (2014)\n",
        "\n"
       ]
      }
     ],
     "prompt_number": 88
    },
    {
     "cell_type": "code",
     "collapsed": false,
     "input": [],
     "language": "python",
     "metadata": {},
     "outputs": []
    }
   ],
   "metadata": {}
  }
 ]
}