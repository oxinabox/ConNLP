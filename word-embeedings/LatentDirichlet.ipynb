{
 "metadata": {
  "language": "Julia",
  "name": "",
  "signature": "sha256:1e48d2db8f0c751c253a364d672549251e54b1aba2619cbd18739b80d733df8d"
 },
 "nbformat": 3,
 "nbformat_minor": 0,
 "worksheets": [
  {
   "cells": [
    {
     "cell_type": "markdown",
     "metadata": {},
     "source": [
      "http://machinelearning.wustl.edu/mlpapers/paper_files/BleiNJ03.pdf"
     ]
    },
    {
     "cell_type": "code",
     "collapsed": false,
     "input": [
      "using Lazy\n",
      "using DataFrames\n",
      "using Memoize\n",
      "\n",
      "using Gadfly\n",
      "using Compose\n",
      "\n",
      "push!(LOAD_PATH, \"./TSne.jl/src/\")\n",
      "using TSne\n",
      "set_default_plot_size(30cm, 30cm)\n"
     ],
     "language": "python",
     "metadata": {},
     "outputs": []
    },
    {
     "cell_type": "code",
     "collapsed": false,
     "input": [
      "function pz(x)\n",
      "    println(typeof(x), ' ', size(x))\n",
      "end\n",
      "\n",
      "function cols(x::Matrix)\n",
      "    function _it()\n",
      "        for ii in 1:size(x,2)\n",
      "            produce(x[:,ii])\n",
      "        end\n",
      "    end\n",
      "    Task(_it)\n",
      "end\n",
      "\n",
      "function rows(x::Matrix)\n",
      "    function _it()\n",
      "        for ii in 1:size(x,1)\n",
      "            produce(x[ii,:])\n",
      "        end\n",
      "    end\n",
      "    Task(_it)\n",
      "end"
     ],
     "language": "python",
     "metadata": {},
     "outputs": []
    },
    {
     "cell_type": "code",
     "collapsed": false,
     "input": [
      "@load \"term_doc_desc.jld\""
     ],
     "language": "python",
     "metadata": {},
     "outputs": []
    }
   ],
   "metadata": {}
  }
 ]
}