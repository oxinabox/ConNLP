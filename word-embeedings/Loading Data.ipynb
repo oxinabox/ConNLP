{
 "metadata": {
  "language": "Julia",
  "name": "",
  "signature": "sha256:6e260d22c5481b521715537e54bc70484a3af0ae20937bdeb5fa84affa20fdc8"
 },
 "nbformat": 3,
 "nbformat_minor": 0,
 "worksheets": [
  {
   "cells": [
    {
     "cell_type": "code",
     "collapsed": false,
     "input": [
      "using DataFrames\n",
      "using HDF5\n",
      "using JLD"
     ],
     "language": "python",
     "metadata": {},
     "outputs": [],
     "prompt_number": 16
    },
    {
     "cell_type": "code",
     "collapsed": false,
     "input": [
      "function pz(x)\n",
      "    println(typeof(x), ' ', size(x))\n",
      "end\n",
      "\n",
      "function cols(x)\n",
      "    function _it()\n",
      "        for ii in 1:size(x,2)\n",
      "            produce(x[:,ii])\n",
      "        end\n",
      "    end\n",
      "    Task(_it)\n",
      "end\n",
      "\n",
      "function rows(x)\n",
      "    function _it()\n",
      "        for ii in 1:size(x,1)\n",
      "            produce(x[ii,:])\n",
      "        end\n",
      "    end\n",
      "    Task(_it)\n",
      "end"
     ],
     "language": "python",
     "metadata": {},
     "outputs": [
      {
       "metadata": {},
       "output_type": "pyout",
       "prompt_number": 37,
       "text": [
        "rows (generic function with 2 methods)"
       ]
      }
     ],
     "prompt_number": 37
    },
    {
     "cell_type": "code",
     "collapsed": false,
     "input": [
      "aa= \"abcd_2000\"\n",
      "\n"
     ],
     "language": "python",
     "metadata": {},
     "outputs": [
      {
       "metadata": {},
       "output_type": "pyout",
       "prompt_number": 18,
       "text": [
        "\"abcd_2000\""
       ]
      }
     ],
     "prompt_number": 18
    },
    {
     "cell_type": "code",
     "collapsed": false,
     "input": [
      "function remove_rows_with_blank(df, colname)\n",
      "    df = df[!isna(df[colname]),:]\n",
      "    df = df[bool(map(x->!isempty(x), df[colname])),:]\n",
      "    df\n",
      "end\n",
      "    \n",
      "\n",
      "function load_con_data(name)\n",
      "    con = readtable(\"con_data/$name.csv\")\n",
      "    con = remove_rows_with_blank(con, :description)\n",
      "    con = remove_rows_with_blank(con, :people)\n",
      "    \n",
      "    con_name, year = split(name,['_'])\n",
      "    con[:con_name] = con_name\n",
      "    con[:year] = year\n",
      "    \n",
      "    con\n",
      "end"
     ],
     "language": "python",
     "metadata": {},
     "outputs": [
      {
       "metadata": {},
       "output_type": "pyout",
       "prompt_number": 19,
       "text": [
        "load_con_data (generic function with 1 method)"
       ]
      }
     ],
     "prompt_number": 19
    },
    {
     "cell_type": "code",
     "collapsed": false,
     "input": [
      "con = [\n",
      "    load_con_data(\"swancon_2009\");\n",
      "    load_con_data(\"swancon_2010\");\n",
      "    load_con_data(\"swancon_2012\");\n",
      "    load_con_data(\"swancon_2013\");\n",
      "    load_con_data(\"swancon_2014\");];\n",
      "\n",
      "@save \"cons.jld\" con"
     ],
     "language": "python",
     "metadata": {},
     "outputs": [],
     "prompt_number": 20
    },
    {
     "cell_type": "code",
     "collapsed": false,
     "input": [],
     "language": "python",
     "metadata": {},
     "outputs": [],
     "prompt_number": 21
    },
    {
     "cell_type": "code",
     "collapsed": false,
     "input": [
      "type TermResolver\n",
      "    vocab::Set{String} \n",
      "    deindex::Vector{String}\n",
      "    index::Dict{String, Int64}\n",
      "    \n",
      "end\n",
      "\n",
      "function TermResolver(wordFile::String=\"/usr/share/dict/words\" )\n",
      "    terms = Set{String}(map(x-> x |> lowercase|> strip, eachline(open(wordFile))))\n",
      "    ordered_terms = terms |> collect\n",
      "    term_indexes = [ww=>ind for (ind, ww) in enumerate(ordered_terms)]\n",
      "    TermResolver(terms, ordered_terms, term_indexes, )\n",
      "end\n",
      "\n",
      "terms_people = TermResolver(\"con_people.txt\")\n",
      "terms_description = TermResolver(\"con_vocab.txt\")\n",
      "\n",
      "@save \"terms_people.jld\" terms_people\n",
      "@save \"terms_description.jld\" terms_description"
     ],
     "language": "python",
     "metadata": {},
     "outputs": [],
     "prompt_number": 22
    },
    {
     "cell_type": "code",
     "collapsed": false,
     "input": [
      "function strip_afixes(word,\n",
      "    suffixes = [\" \", \"_\",\"*\",\",\",\";\",\".\", \"!\", \"*\", \"...\", \"?\", \":\",\")\", \"\\\"\", \"'\", \"\"],\n",
      "    prefixes = [\" \", \"_\",\"*\",\"(\", \"\\\"\", \"'\", \"\"])\n",
      "       \n",
      "    assert(\"\" == suffixes[end])\n",
      "    assert(\"\" == prefixes[end])\n",
      " \n",
      "    for pre in prefixes, suf in suffixes #The straight word is covered by the prefix and suffix \"\"\n",
      "        if pre==suf==\"\"         \n",
      "            break\n",
      "        end\n",
      "        \n",
      "        if startswith(word,pre) && endswith(word,suf)\n",
      "            word = word[1+length(pre):end-length(suf)]\n",
      "            #println(\"***[$pre][$word][$suf]\")\n",
      "            word = strip_afixes(word,suffixes,prefixes)\n",
      "            break\n",
      "        end\n",
      "     end\n",
      "     word\n",
      "end\n",
      "    \n",
      "\n",
      "@doc \"\"\"\n",
      "    Breaks up text, in to a list of words.\n",
      "    It will make all words lowercase.\n",
      "    It will delete the suffix and prefixes into seperate words \n",
      "    if this causes the base word to be in the preffered words list.\n",
      "    \n",
      "    it will return preffered words in the first list \n",
      "    and unperferred words only in the second list\n",
      "\"\"\" ->\n",
      "function breakup_text(  text::String, \n",
      "    preferred_words::Set{String},\n",
      "    delims = [' ', '\\t','\\n','\\v', '\\f', '\\r']\n",
      "    )\n",
      "\n",
      "    \n",
      "    unpreferred_words = Array{String}(0)\n",
      "    words = Array{String}(0)\n",
      "    for field in split(text,delims)\n",
      "        found = false\n",
      "        field = lowercase(field)\n",
      "        word = strip_afixes(field)\n",
      "        if !isempty(word)\n",
      "            if word in preferred_words\n",
      "                push!(words,word)\n",
      "            else\n",
      "                push!(unpreferred_words,word) #but also note it as a problem\n",
      "            end\n",
      "        end\n",
      "\n",
      "        \n",
      "    end\n",
      "    words, unpreferred_words\n",
      "end\n",
      "\n",
      "function breakup_text(::DataArrays.NAtype, ::Set{AbstractString}, ::Any)\n",
      "    [],[] #No text becomes Empty Lists of words\n",
      "end"
     ],
     "language": "python",
     "metadata": {},
     "outputs": [
      {
       "metadata": {},
       "output_type": "pyout",
       "prompt_number": 23,
       "text": [
        "breakup_text (generic function with 3 methods)"
       ]
      }
     ],
     "prompt_number": 23
    },
    {
     "cell_type": "code",
     "collapsed": false,
     "input": [
      "function get_all_terms(documents::Union(DataVector{String},DataVector{UTF8String}),\n",
      "                       delims=[' ', '\\t','\\n','\\v', '\\f', '\\r']\n",
      "    )\n",
      "    empty_vocab = Set{String}()\n",
      "    vocab = Set{String}()\n",
      "     \n",
      "    mapfoldl(doc-> breakup_text(doc,empty_vocab,delims)[2],\n",
      "              union,\n",
      "              Set{String}(),                \n",
      "              documents)\n",
      "end\n",
      "#terms =  get_all_terms(con[:description])\n",
      "#writedlm(\"con_vocab.txt\", terms)\n",
      "\n",
      "#people =  get_all_terms(con[:people],[','])\n",
      "#writedlm(\"con_people.txt\", people)"
     ],
     "language": "python",
     "metadata": {},
     "outputs": [
      {
       "metadata": {},
       "output_type": "pyout",
       "prompt_number": 24,
       "text": [
        "get_all_terms (generic function with 2 methods)"
       ]
      }
     ],
     "prompt_number": 24
    },
    {
     "cell_type": "code",
     "collapsed": false,
     "input": [
      "function get_term_doc_matrix(\n",
      "        term_resolver::TermResolver, \n",
      "        documents::Union(DataVector{String},DataVector{UTF8String}),\n",
      "        delims=[' ', '\\t','\\n','\\v', '\\f', '\\r']\n",
      "    )\n",
      "    \n",
      "    TD = spzeros(length(term_resolver.vocab),length(documents)) #Term Rows, document columns\n",
      "    \n",
      "    missed_terms::Vector{String} = []\n",
      "    \n",
      "    for (iiDoc, doc) in enumerate(documents)\n",
      "        doc_terms::Vector{String}, doc_missed_terms = \n",
      "        breakup_text(doc, term_resolver.vocab, delims)\n",
      "        for term in doc_terms\n",
      "            iiTerm = term_resolver.index[term]\n",
      "            TD[iiTerm, iiDoc]+=1\n",
      "        end      \n",
      "        append!(missed_terms, doc_missed_terms)\n",
      "    end\n",
      "    TD, missed_terms\n",
      "end\n"
     ],
     "language": "python",
     "metadata": {},
     "outputs": [
      {
       "metadata": {},
       "output_type": "pyout",
       "prompt_number": 25,
       "text": [
        "get_term_doc_matrix (generic function with 2 methods)"
       ]
      }
     ],
     "prompt_number": 25
    },
    {
     "cell_type": "code",
     "collapsed": false,
     "input": [
      "term_doc_desc, missied_words = get_term_doc_matrix(terms_description, con[:description])\n",
      "term_doc_people, missied_words = get_term_doc_matrix(terms_people, con[:people], [',']);"
     ],
     "language": "python",
     "metadata": {},
     "outputs": [],
     "prompt_number": 26
    },
    {
     "cell_type": "code",
     "collapsed": false,
     "input": [
      "term_doc_people |> pz"
     ],
     "language": "python",
     "metadata": {},
     "outputs": [
      {
       "output_type": "stream",
       "stream": "stdout",
       "text": [
        "Base.SparseMatrix."
       ]
      },
      {
       "output_type": "stream",
       "stream": "stdout",
       "text": [
        "SparseMatrixCSC{Float64,Int64} (365,619)\n"
       ]
      }
     ],
     "prompt_number": 27
    },
    {
     "cell_type": "code",
     "collapsed": false,
     "input": [
      "term_doc_desc |> pz"
     ],
     "language": "python",
     "metadata": {},
     "outputs": [
      {
       "output_type": "stream",
       "stream": "stdout",
       "text": [
        "Base.SparseMatrix.SparseMatrixCSC{Float64,Int64} (5468,619)\n"
       ]
      }
     ],
     "prompt_number": 28
    },
    {
     "cell_type": "code",
     "collapsed": false,
     "input": [
      "@save \"term_doc_desc.jld\" term_doc_desc\n",
      "@save \"term_doc_people.jld\" term_doc_people\n",
      "\n"
     ],
     "language": "python",
     "metadata": {},
     "outputs": [],
     "prompt_number": 29
    },
    {
     "cell_type": "code",
     "collapsed": false,
     "input": [
      "term_doc_desc[map(countnz, rows(term_doc_desc.>0.0)).>300,:]"
     ],
     "language": "python",
     "metadata": {},
     "outputs": [
      {
       "metadata": {},
       "output_type": "pyout",
       "prompt_number": 42,
       "text": [
        "5x619 sparse matrix with 2017 Float64 entries:\n",
        "\t[2  ,   1]  =  1.0\n",
        "\t[5  ,   1]  =  2.0\n",
        "\t[1  ,   2]  =  1.0\n",
        "\t[2  ,   2]  =  2.0\n",
        "\t[3  ,   2]  =  2.0\n",
        "\t[2  ,   3]  =  1.0\n",
        "\t[3  ,   3]  =  2.0\n",
        "\t[4  ,   3]  =  2.0\n",
        "\t[5  ,   3]  =  2.0\n",
        "\t[3  ,   4]  =  1.0\n",
        "\t\u22ee\n",
        "\t[3  , 617]  =  1.0\n",
        "\t[4  , 617]  =  2.0\n",
        "\t[5  , 617]  =  7.0\n",
        "\t[2  , 618]  =  2.0\n",
        "\t[3  , 618]  =  1.0\n",
        "\t[4  , 618]  =  1.0\n",
        "\t[5  , 618]  =  4.0\n",
        "\t[2  , 619]  =  2.0\n",
        "\t[3  , 619]  =  2.0\n",
        "\t[4  , 619]  =  1.0\n",
        "\t[5  , 619]  =  5.0"
       ]
      }
     ],
     "prompt_number": 42
    },
    {
     "cell_type": "code",
     "collapsed": false,
     "input": [
      "for ii in terms_description.deindex[map(countnz, rows(term_doc_desc.>0.0)).>75]\n",
      "    println(ii)\n",
      "end"
     ],
     "language": "python",
     "metadata": {},
     "outputs": [
      {
       "output_type": "stream",
       "stream": "stdout",
       "text": [
        "a\n"
       ]
      },
      {
       "output_type": "stream",
       "stream": "stdout",
       "text": [
        "of\n",
        "to\n",
        "our\n",
        "are\n",
        "some\n",
        "an\n",
        "with\n",
        "for\n",
        "be\n",
        "you\n",
        "or\n",
        "at\n",
        "that\n",
        "this\n",
        "have\n",
        "will\n",
        "how\n",
        "their\n",
        "we\n",
        "as\n",
        "is\n",
        "about\n",
        "what\n",
        "come\n",
        "and\n",
        "can\n",
        "it\n",
        "all\n",
        "from\n",
        "they\n",
        "the\n",
        "in\n",
        "your\n",
        "on\n"
       ]
      }
     ],
     "prompt_number": 60
    },
    {
     "cell_type": "code",
     "collapsed": false,
     "input": [
      "term_doc_desc |> pz"
     ],
     "language": "python",
     "metadata": {},
     "outputs": [
      {
       "output_type": "stream",
       "stream": "stdout",
       "text": [
        "Base.SparseMatrix."
       ]
      },
      {
       "output_type": "stream",
       "stream": "stdout",
       "text": [
        "SparseMatrixCSC{Float64,Int64} (5468,619)\n"
       ]
      }
     ],
     "prompt_number": 45
    },
    {
     "cell_type": "code",
     "collapsed": false,
     "input": [
      "is(1,2)"
     ],
     "language": "python",
     "metadata": {},
     "outputs": [
      {
       "metadata": {},
       "output_type": "pyout",
       "prompt_number": 63,
       "text": [
        "false"
       ]
      }
     ],
     "prompt_number": 63
    },
    {
     "cell_type": "code",
     "collapsed": false,
     "input": [],
     "language": "python",
     "metadata": {},
     "outputs": []
    }
   ],
   "metadata": {}
  }
 ]
}